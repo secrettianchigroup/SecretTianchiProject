{
 "cells": [
  {
   "cell_type": "code",
   "execution_count": 1,
   "metadata": {},
   "outputs": [
    {
     "name": "stderr",
     "output_type": "stream",
     "text": [
      "/Users/prehawkmac/anaconda3/lib/python3.6/site-packages/sklearn/preprocessing/label.py:95: DataConversionWarning: A column-vector y was passed when a 1d array was expected. Please change the shape of y to (n_samples, ), for example using ravel().\n",
      "  y = column_or_1d(y, warn=True)\n",
      "/Users/prehawkmac/anaconda3/lib/python3.6/site-packages/sklearn/preprocessing/label.py:128: DataConversionWarning: A column-vector y was passed when a 1d array was expected. Please change the shape of y to (n_samples, ), for example using ravel().\n",
      "  y = column_or_1d(y, warn=True)\n",
      "/Users/prehawkmac/anaconda3/lib/python3.6/site-packages/lightgbm/basic.py:1038: UserWarning: categorical_feature in Dataset is overrided. New categorical_feature is ['user_gender_id']\n",
      "  warnings.warn('categorical_feature in Dataset is overrided. New categorical_feature is {}'.format(sorted(list(categorical_feature))))\n"
     ]
    }
   ],
   "source": [
    "# baseline\n",
    "import time\n",
    "import pandas as pd\n",
    "import lightgbm as lgb\n",
    "from sklearn.metrics import log_loss\n",
    "\n",
    "\n",
    "def timestamp_datetime(value):\n",
    "    format = '%Y-%m-%d %H:%M:%S'\n",
    "    value = time.localtime(value)\n",
    "    dt = time.strftime(format, value)\n",
    "    return dt\n",
    "\n",
    "\n",
    "def convert_data(data):\n",
    "    data['time'] = data.context_timestamp.apply(timestamp_datetime)\n",
    "    data['day'] = data.time.apply(lambda x: int(x[8:10]))\n",
    "    data['hour'] = data.time.apply(lambda x: int(x[11:13]))\n",
    "    user_query_day = data.groupby(['user_id', 'day']).size(\n",
    "    ).reset_index().rename(columns={0: 'user_query_day'})\n",
    "    data = pd.merge(data, user_query_day, 'left', on=['user_id', 'day'])\n",
    "    user_query_day_hour = data.groupby(['user_id', 'day', 'hour']).size().reset_index().rename(\n",
    "        columns={0: 'user_query_day_hour'})\n",
    "    data = pd.merge(data, user_query_day_hour, 'left',\n",
    "                    on=['user_id', 'day', 'hour'])\n",
    "\n",
    "    return data\n",
    "\n",
    "\n",
    "if __name__ == \"__main__\":\n",
    "    online = True# 这里用来标记是 线下验证 还是 在线提交\n",
    "\n",
    "    data = pd.read_csv('round1_ijcai_18_train_20180301.txt', sep=' ')\n",
    "    data.drop_duplicates(inplace=True)\n",
    "    data = convert_data(data)\n",
    "\n",
    "    if online == False:\n",
    "        train = data.loc[data.day < 24]  # 18,19,20,21,22,23,24\n",
    "        test = data.loc[data.day == 24]  # 暂时先使用第24天作为验证集\n",
    "    elif online == True:\n",
    "        train = data.copy()\n",
    "        test = pd.read_csv('round1_ijcai_18_test_a_20180301.txt', sep=' ')\n",
    "        test = convert_data(test)\n",
    "\n",
    "    features = ['item_id', 'item_brand_id', 'item_city_id', 'item_price_level', 'item_sales_level',\n",
    "                'item_collected_level', 'item_pv_level', 'user_gender_id', 'user_occupation_id',\n",
    "                'user_age_level', 'user_star_level', 'user_query_day', 'user_query_day_hour',\n",
    "                'context_page_id', 'hour', 'shop_id', 'shop_review_num_level', 'shop_star_level',\n",
    "                'shop_review_positive_rate', 'shop_score_service', 'shop_score_delivery', 'shop_score_description',\n",
    "                ]\n",
    "    target = ['is_trade']\n",
    "\n",
    "    if online == False:\n",
    "        clf = lgb.LGBMClassifier(num_leaves=63, max_depth=7, n_estimators=80, n_jobs=20)\n",
    "        clf.fit(train[features], train[target], feature_name=features,\n",
    "                categorical_feature=['user_gender_id', ])\n",
    "        test['lgb_predict'] = clf.predict_proba(test[features],)[:, 1]\n",
    "        print(log_loss(test[target], test['lgb_predict']))\n",
    "    else:\n",
    "        clf = lgb.LGBMClassifier(num_leaves=63, max_depth=7, n_estimators=80, n_jobs=20)\n",
    "        clf.fit(train[features], train[target],\n",
    "                categorical_feature=['user_gender_id', ])\n",
    "        test['predicted_score'] = clf.predict_proba(test[features])[:, 1]\n",
    "        test[['instance_id', 'predicted_score']].to_csv('baseline.csv', index=False,sep=' ')#保存在线提交结果"
   ]
  }
 ],
 "metadata": {
  "kernelspec": {
   "display_name": "Python 3",
   "language": "python",
   "name": "python3"
  },
  "language_info": {
   "codemirror_mode": {
    "name": "ipython",
    "version": 3
   },
   "file_extension": ".py",
   "mimetype": "text/x-python",
   "name": "python",
   "nbconvert_exporter": "python",
   "pygments_lexer": "ipython3",
   "version": "3.6.3"
  }
 },
 "nbformat": 4,
 "nbformat_minor": 2
}
