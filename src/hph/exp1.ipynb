{
 "cells": [
  {
   "cell_type": "markdown",
   "metadata": {},
   "source": [
    "# HPH第一版实验\n",
    "\n",
    "### 思路\n",
    "\n",
    "*id统计相关*\n",
    "1. item_id, shop_id的交易量, 交易率\n",
    "2. item_id, shop_id7天是否新出现, 3天是否新出现"
   ]
  },
  {
   "cell_type": "code",
   "execution_count": 142,
   "metadata": {
    "collapsed": true
   },
   "outputs": [],
   "source": [
    "import sys\n",
    "sys.path.append(\"..\")\n",
    "import pandas as pd\n",
    "import seaborn as sns\n",
    "import matplotlib.pyplot as plt\n",
    "from datetime import datetime\n",
    "\n",
    "\n",
    "%matplotlib inline\n",
    "offline_df = pd.read_table('../../round1_ijcai_18_train_20180301.txt', sep=' ')\n",
    "# online_df = pd.read_table('../../round1_ijcai_18_test_a_20180301.txt', sep=' ')"
   ]
  },
  {
   "cell_type": "markdown",
   "metadata": {},
   "source": [
    "# 1 数据集统一处理"
   ]
  },
  {
   "cell_type": "code",
   "execution_count": 143,
   "metadata": {},
   "outputs": [],
   "source": [
    "# 时间处理: 分离天, 星期几, 上中下午/晚上, 小时数\n",
    "\n",
    "from datetime import datetime\n",
    "\n",
    "def extract_date(x):\n",
    "    d = datetime.fromtimestamp(x)\n",
    "    return d.strftime('%Y-%m-%d')\n",
    "def extract_weekday(x):\n",
    "    d = datetime.fromtimestamp(x)\n",
    "    return d.weekday()\n",
    "def extract_hour(x):\n",
    "    d = datetime.fromtimestamp(x)\n",
    "    return d.hour\n",
    "\n",
    "offline_df['date'] = offline_df['context_timestamp'].apply(lambda x: extract_date(x))\n",
    "offline_df['weekday'] = offline_df['context_timestamp'].apply(lambda x: extract_weekday(x))\n",
    "offline_df['hour'] = offline_df['context_timestamp'].apply(lambda x: extract_hour(x))"
   ]
  },
  {
   "cell_type": "code",
   "execution_count": 267,
   "metadata": {
    "collapsed": true
   },
   "outputs": [],
   "source": [
    "# id是否重复信息\n",
    "le = preprocessing.LabelEncoder()\n",
    "offline_df['item_id_dup'] = le.fit_transform(offline_df['item_id'].duplicated())\n",
    "offline_df['shop_id_dup'] = le.fit_transform(offline_df['shop_id'].duplicated())\n",
    "offline_df['item_brand_id_dup'] = le.fit_transform(offline_df['item_brand_id'].duplicated())\n",
    "offline_df['user_id_dup'] = le.fit_transform(offline_df['user_id'].duplicated())\n",
    "\n"
   ]
  },
  {
   "cell_type": "code",
   "execution_count": null,
   "metadata": {
    "collapsed": true
   },
   "outputs": [],
   "source": []
  },
  {
   "cell_type": "code",
   "execution_count": 5,
   "metadata": {
    "collapsed": true
   },
   "outputs": [],
   "source": [
    "# 异常值丢弃, 100条以内\n",
    "\n",
    "offline_df['shop_score_service'] = offline_df['shop_score_service'].map(lambda x: x if x > 0 else float(\"nan\"))\n",
    "offline_df['shop_score_delivery'] = offline_df['shop_score_delivery'].map(lambda x: x if x > 0 else float(\"nan\"))\n",
    "offline_df['shop_score_description'] = offline_df['shop_score_description'].map(lambda x: x if x > 0 else float(\"nan\"))\n",
    "offline_df['shop_review_positive_rate']  = offline_df['shop_review_positive_rate'].map(lambda x: x if x > 0 else float(\"nan\"))\n",
    "offline_df = offline_df.dropna()"
   ]
  },
  {
   "cell_type": "code",
   "execution_count": 144,
   "metadata": {
    "collapsed": true
   },
   "outputs": [],
   "source": [
    "# 统计信息附加\n",
    "\n",
    "def getColTradeRate(df, idCol):\n",
    "    rateCol = idCol + '_tr'\n",
    "    pvCol = idCol + '_pv'\n",
    "    try:\n",
    "        del df[rateCol]\n",
    "        del df[pvCol]\n",
    "    except:\n",
    "        pass\n",
    "    a = offline_df.groupby([idCol]).agg({'is_trade':'sum'})\n",
    "    b = offline_df.groupby([idCol]).agg({'is_trade':'size'})\n",
    "    c = a.join(b, lsuffix=\"_sum\", rsuffix=\"_size\")\n",
    "    c[rateCol] = c['is_trade_sum'] / c['is_trade_size']\n",
    "    c[pvCol] = c['is_trade_size']\n",
    "    return offline_df.join(c[[rateCol, pvCol]], on=idCol)\n",
    "    \n",
    "\n",
    "# 各类id的 交易量, 交易率\n",
    "offline_df = getColTradeRate(offline_df, 'item_city_id')\n",
    "offline_df = getColTradeRate(offline_df, 'item_id')\n",
    "offline_df = getColTradeRate(offline_df, 'shop_id')\n",
    "offline_df = getColTradeRate(offline_df, 'item_brand_id')\n",
    "offline_df = getColTradeRate(offline_df, 'user_occupation_id')\n"
   ]
  },
  {
   "cell_type": "code",
   "execution_count": 145,
   "metadata": {
    "collapsed": true
   },
   "outputs": [],
   "source": [
    "# 分桶\n",
    "from sklearn import preprocessing\n",
    "le = preprocessing.LabelEncoder()\n",
    "\n",
    "offline_df['item_city_id_pv_cut'] = pd.cut(offline_df['item_city_id_pv'].values, bins=10, retbins=False)\n",
    "offline_df['item_id_pv_cut'] = pd.cut(offline_df['item_id_pv'].values, bins=10, retbins=False)\n",
    "offline_df['shop_id_pv_cut'] = pd.cut(offline_df['shop_id_pv'].values, bins=10, retbins=False)\n",
    "offline_df['item_brand_id_pv_cut'] = pd.cut(offline_df['item_brand_id_pv'].values, bins=10, retbins=False)\n",
    "offline_df['user_occupation_id_pv_cut'] = pd.cut(offline_df['user_occupation_id_pv'].values, bins=10, retbins=False)\n",
    "\n",
    "offline_df['item_city_id_pv_cut'] = le.fit_transform(offline_df['item_city_id_pv_cut'].copy())\n",
    "offline_df['item_id_pv_cut'] = le.fit_transform(offline_df['item_id_pv_cut'].copy())\n",
    "offline_df['shop_id_pv_cut'] = le.fit_transform(offline_df['shop_id_pv_cut'].copy())\n",
    "offline_df['item_brand_id_pv_cut'] = le.fit_transform(offline_df['item_brand_id_pv_cut'].copy())\n",
    "offline_df['user_occupation_id_pv_cut'] = le.fit_transform(offline_df['user_occupation_id_pv_cut'].copy())"
   ]
  },
  {
   "cell_type": "code",
   "execution_count": 237,
   "metadata": {},
   "outputs": [],
   "source": [
    "# 归一化 连续值\n",
    "\n",
    "def fillempty(df, name, val):\n",
    "    return df[name].map(lambda x: val if x < 0 else x )\n",
    "\n",
    "num_ids = ['shop_score_service', 'shop_score_delivery', 'shop_score_description', \n",
    "           'shop_review_positive_rate', 'item_city_id_tr', 'item_id_tr',\n",
    "           'shop_id_tr', 'item_brand_id_tr', 'user_occupation_id_tr']\n",
    "\n",
    "for col in num_ids:\n",
    "    offline_df[col + '_scaled'] = fillempty(offline_df, col, -0.000000000001)\n",
    "    "
   ]
  },
  {
   "cell_type": "code",
   "execution_count": null,
   "metadata": {},
   "outputs": [],
   "source": [
    "import sklearn\n",
    "help(sklearn.preprocessing)"
   ]
  },
  {
   "cell_type": "code",
   "execution_count": null,
   "metadata": {},
   "outputs": [],
   "source": [
    "# standardization and scaling\n",
    "\n",
    "from sklearn import preprocessing\n",
    "\n",
    "def scale(df, idCol):\n",
    "    min_max_scaler = preprocessing.MinMaxScaler()\n",
    "    a = min_max_scaler.fit_transform(df[idCol].values.reshape(-1, 1))\n",
    "    return pd.Series(a.reshape(1, -1)[0])\n",
    "\n",
    "# 令数据再少一些?\n",
    "offline_df['shop_score_service_scaled'] = scale(offline_df, 'shop_score_service')\n",
    "offline_df['shop_score_delivery_scaled'] = scale(offline_df, 'shop_score_delivery')\n",
    "offline_df['shop_score_description_scaled'] = scale(offline_df, 'shop_score_description')\n",
    "offline_df['shop_review_positive_rate_scaled'] = scale(offline_df, 'shop_review_positive_rate')\n",
    "offline_df['item_city_id_tr_scaled'] = scale(offline_df, 'item_city_id_tr')\n",
    "offline_df['item_id_tr_scaled'] = scale(offline_df, 'item_id_tr')\n",
    "offline_df['shop_id_tr_scaled'] = scale(offline_df, 'shop_id_tr')\n",
    "offline_df['item_brand_id_tr_scaled'] = scale(offline_df, 'item_brand_id_tr')\n",
    "offline_df['user_occupation_id_scaled'] = scale(offline_df, 'user_occupation_id_tr')\n",
    "\n",
    "# offline_df = offline_df.dropna()"
   ]
  },
  {
   "cell_type": "code",
   "execution_count": null,
   "metadata": {
    "scrolled": true
   },
   "outputs": [],
   "source": [
    "offline_df"
   ]
  },
  {
   "cell_type": "markdown",
   "metadata": {},
   "source": [
    "# 2 生成矩阵数据"
   ]
  },
  {
   "cell_type": "code",
   "execution_count": 9,
   "metadata": {},
   "outputs": [
    {
     "name": "stderr",
     "output_type": "stream",
     "text": [
      "100%|██████████| 478020/478020 [01:50<00:00, 4340.08it/s]\n"
     ]
    }
   ],
   "source": [
    "# 原始类目特征表示\n",
    "from tqdm import tqdm\n",
    "\n",
    "raw_feat = []\n",
    "for i, row in tqdm(offline_df.iterrows(), total=len(offline_df)):\n",
    "    feat = {}\n",
    "    feat['it_prc_l'] = str(row.item_price_level)\n",
    "    feat['it_sls_l'] = str(row.item_sales_level)\n",
    "    feat['it_cll_l'] = str(row.item_collected_level)\n",
    "    feat['it_pv_l'] = str(row.item_pv_level)\n",
    "    feat['sp_rvn_l'] = str(row.shop_review_num_level)\n",
    "    feat['ct_pg'] = str(row.context_page_id)\n",
    "    feat['it_city'] = str(row.item_city_id)\n",
    "    feat['it_brd'] = str(row.item_brand_id)\n",
    "    feat['sp_id'] = str(row.shop_id)\n",
    "    feat['it_city_pvc'] = str(row.item_city_id_pv_cut.right)\n",
    "    feat['it_pvc'] = str(row.item_id_pv_cut.right)\n",
    "    feat['sp_id_pvc'] = str(row.shop_id_pv_cut.right)\n",
    "    feat['it_brd_id_pvc'] = str(row.item_brand_id_pv_cut.right)\n",
    "    feat['u_occp_pvc'] = str(row.user_occupation_id_pv_cut.right)\n",
    "    feat['weekday'] = str(row.weekday)\n",
    "    feat['hour'] = str(row.hour)\n",
    "    raw_feat.append(feat)\n"
   ]
  },
  {
   "cell_type": "code",
   "execution_count": 10,
   "metadata": {},
   "outputs": [],
   "source": [
    "# 生成矩阵\n",
    "from sklearn.feature_extraction import DictVectorizer\n",
    "from sklearn.externals import joblib\n",
    "\n",
    "vec = DictVectorizer()\n",
    "cate_features = vec.fit_transform(raw_feat)\n",
    "\n",
    "# joblib.dump(vec, 'model/vectorizer.m')"
   ]
  },
  {
   "cell_type": "code",
   "execution_count": 17,
   "metadata": {
    "collapsed": true
   },
   "outputs": [],
   "source": [
    "# 数字特征处理\n",
    "num_cols = ['shop_score_service_scaled', \n",
    " 'shop_score_delivery_scaled', \n",
    " 'shop_score_description_scaled', \n",
    " 'shop_review_positive_rate_scaled', \n",
    " 'item_city_id_tr_scaled', 'item_id_tr_scaled', \n",
    " 'shop_id_tr_scaled', 'item_brand_id_tr_scaled', \n",
    " 'user_occupation_id_scaled'\n",
    "]\n",
    "\n",
    "num_features = offline_df[num_cols].as_matrix()"
   ]
  },
  {
   "cell_type": "code",
   "execution_count": 18,
   "metadata": {},
   "outputs": [
    {
     "name": "stdout",
     "output_type": "stream",
     "text": [
      "(478020, 9) (478020,)\n"
     ]
    }
   ],
   "source": [
    "# 特征合并, label列提取\n",
    "from scipy import sparse as sp\n",
    "\n",
    "# model_features = sp.hstack([cate_features, num_features])\n",
    "# model_features = cate_features\n",
    "model_features = num_features\n",
    "model_targets = offline_df.is_trade.values\n",
    "print(model_features.shape, model_targets.shape)"
   ]
  },
  {
   "cell_type": "code",
   "execution_count": 20,
   "metadata": {},
   "outputs": [],
   "source": [
    "# 最终生成数据\n",
    "\n",
    "used = 78261\n",
    "X, y = model_features.toarray()[:used], model_targets[:used]\n",
    "\n",
    "offset = int(used * (1 - 0.05))\n",
    "X_train, y_train = X[:offset], y[:offset]\n",
    "X_test, y_test = X[offset:], y[offset:]"
   ]
  },
  {
   "cell_type": "code",
   "execution_count": null,
   "metadata": {},
   "outputs": [],
   "source": [
    "offline_df.columns"
   ]
  },
  {
   "cell_type": "code",
   "execution_count": null,
   "metadata": {},
   "outputs": [],
   "source": [
    "X.columns"
   ]
  },
  {
   "cell_type": "code",
   "execution_count": 274,
   "metadata": {},
   "outputs": [],
   "source": [
    "used = 78261\n",
    "X = offline_df[['date', 'item_id', 'item_id_dup', 'shop_id_dup', 'item_brand_id_dup', 'user_id_dup',\n",
    "       'item_brand_id', 'item_city_id', 'item_price_level', 'item_sales_level',\n",
    "       'item_collected_level', 'item_pv_level', 'item_id_pv_cut', 'shop_id_pv_cut',\n",
    "       'user_occupation_id_pv_cut', 'user_id', 'user_gender_id', 'weekday', 'hour',\n",
    "       'user_age_level', 'user_occupation_id', 'user_star_level', 'context_page_id', 'context_id',\n",
    "       'item_city_id_tr', 'item_city_id_pv_cut', 'item_id_tr', 'item_id_pv',\n",
    "       'shop_id_tr', 'shop_id_pv', 'item_brand_id_tr', 'item_brand_id_pv',\n",
    "       'shop_id', 'user_occupation_id_pv', 'shop_score_delivery_scaled',\n",
    "        'shop_score_description_scaled', 'shop_review_positive_rate_scaled', 'shop_score_service_scaled'      \n",
    "]]\n",
    "#        'shop_score_delivery_scaled', 'shop_score_description_scaled',\n",
    "#        'shop_review_positive_rate_scaled', 'item_city_id_tr_scaled',\n",
    "#        'item_id_tr_scaled', 'shop_id_tr_scaled', 'item_brand_id_tr_scaled',\n",
    "#        'user_occupation_id_scaled', 'shop_score_service_scaled', \n",
    "        \n",
    "y = offline_df[['is_trade']]\n",
    "\n",
    "offset = int(used * (1 - 0.05))\n",
    "X_train, y_train = X[:offset], y[:offset]\n",
    "X_test, y_test = X[offset:], y[offset:]"
   ]
  },
  {
   "cell_type": "code",
   "execution_count": 275,
   "metadata": {},
   "outputs": [
    {
     "data": {
      "text/plain": [
       "((74347, 38), (74347, 1))"
      ]
     },
     "execution_count": 275,
     "metadata": {},
     "output_type": "execute_result"
    }
   ],
   "source": [
    "X_train.shape, y_train.shape"
   ]
  },
  {
   "cell_type": "markdown",
   "metadata": {},
   "source": [
    "# 2.5 kfold 测试"
   ]
  },
  {
   "cell_type": "code",
   "execution_count": 276,
   "metadata": {},
   "outputs": [
    {
     "name": "stderr",
     "output_type": "stream",
     "text": [
      "/Users/prehawkmac/anaconda3/lib/python3.6/site-packages/ipykernel_launcher.py:2: SettingWithCopyWarning: \n",
      "A value is trying to be set on a copy of a slice from a DataFrame.\n",
      "Try using .loc[row_indexer,col_indexer] = value instead\n",
      "\n",
      "See the caveats in the documentation: http://pandas.pydata.org/pandas-docs/stable/indexing.html#indexing-view-versus-copy\n",
      "  \n"
     ]
    },
    {
     "name": "stdout",
     "output_type": "stream",
     "text": [
      "2018-09-18 to 2018-09-18 is training set, 2018-09-19 is test set, 2018-09-24 is valid set, start training ... \n",
      "0 done, logloss train = 0.08453301421 (compare to previous: 0.08453301421), \n",
      "                    \ttest = 0.0859826552275 (compare to previous: 0.0859826552275), \n",
      "                    \tvalid = 0.0764235695799 (compare to previous: 0.0764235695799)\n",
      "\n",
      "2018-09-18 to 2018-09-19 is training set, 2018-09-20 is test set, 2018-09-24 is valid set, start training ... \n",
      "1 done, logloss train = 0.0849824132399 (compare to previous: 0.000449399029938), \n",
      "                    \ttest = 0.0849697068028 (compare to previous: -0.00101294842465), \n",
      "                    \tvalid = 0.0761965299769 (compare to previous: -0.000227039602957)\n",
      "\n",
      "2018-09-18 to 2018-09-20 is training set, 2018-09-21 is test set, 2018-09-24 is valid set, start training ... \n",
      "2 done, logloss train = 0.0848504878724 (compare to previous: -0.000131925367588), \n",
      "                    \ttest = 0.0843232277361 (compare to previous: -0.00064647906671), \n",
      "                    \tvalid = 0.0761036088018 (compare to previous: -9.29211750636e-05)\n",
      "\n",
      "2018-09-18 to 2018-09-21 is training set, 2018-09-22 is test set, 2018-09-24 is valid set, start training ... \n",
      "3 done, logloss train = 0.0846860400236 (compare to previous: -0.000164447848764), \n",
      "                    \ttest = 0.0819314551414 (compare to previous: -0.00239177259466), \n",
      "                    \tvalid = 0.0760837782285 (compare to previous: -1.9830573348e-05)\n",
      "\n",
      "2018-09-18 to 2018-09-22 is training set, 2018-09-23 is test set, 2018-09-24 is valid set, start training ... \n",
      "4 done, logloss train = 0.0841110122395 (compare to previous: -0.000575027784069), \n",
      "                    \ttest = 0.0770476519892 (compare to previous: -0.00488380315222), \n",
      "                    \tvalid = 0.075977095497 (compare to previous: -0.000106682731508)\n",
      "\n"
     ]
    }
   ],
   "source": [
    "train_input = X\n",
    "train_input['is_trade'] = y\n",
    "\n",
    "%run ../yuhua/BaseFrame.py\n",
    "\n",
    "def tatx(train_df, test_df, valid_df):\n",
    "\n",
    "    X_train = train_df.copy()\n",
    "    del X_train['is_trade']\n",
    "\n",
    "    y_train = train_df['is_trade']\n",
    "    \n",
    "    X_test = test_df.copy()\n",
    "    del X_test['is_trade']\n",
    "    y_test = test_df['is_trade']\n",
    "    \n",
    "    X_valid = valid_df.copy()\n",
    "    del X_valid['is_trade']\n",
    "    y_valid = valid_df['is_trade']\n",
    "    \n",
    "    import xgboost\n",
    "    params = {\n",
    "        'nthread': 20\n",
    "    }\n",
    "    m = xgboost.XGBClassifier(**params)\n",
    "    m.fit(X_train, y_train)\n",
    "\n",
    "    from sklearn.metrics import log_loss\n",
    "    l_train = log_loss(y_train, m.predict_proba(X_train))\n",
    "    l_test = log_loss(y_test, m.predict_proba(X_test))\n",
    "    l_valid = log_loss(y_valid, m.predict_proba(X_valid))\n",
    "\n",
    "    return l_train, l_test, l_valid\n",
    "\n",
    "frame = BaseFrame(train_input, 0.05)\n",
    "frame.kfold_by_date('date', tatx)\n",
    "# 0.077189, 0.076092\n",
    "# test = 0.077047  valid = 0.07597"
   ]
  },
  {
   "cell_type": "markdown",
   "metadata": {},
   "source": [
    "# 3 开始训练"
   ]
  },
  {
   "cell_type": "code",
   "execution_count": 141,
   "metadata": {},
   "outputs": [
    {
     "name": "stderr",
     "output_type": "stream",
     "text": [
      "/Users/prehawkmac/anaconda3/lib/python3.6/site-packages/sklearn/preprocessing/label.py:95: DataConversionWarning: A column-vector y was passed when a 1d array was expected. Please change the shape of y to (n_samples, ), for example using ravel().\n",
      "  y = column_or_1d(y, warn=True)\n",
      "/Users/prehawkmac/anaconda3/lib/python3.6/site-packages/sklearn/preprocessing/label.py:128: DataConversionWarning: A column-vector y was passed when a 1d array was expected. Please change the shape of y to (n_samples, ), for example using ravel().\n",
      "  y = column_or_1d(y, warn=True)\n"
     ]
    },
    {
     "name": "stdout",
     "output_type": "stream",
     "text": [
      "XGBClassifier(base_score=0.5, booster='gbtree', colsample_bylevel=1,\n",
      "       colsample_bytree=1, gamma=0, learning_rate=0.1, max_delta_step=0,\n",
      "       max_depth=3, min_child_weight=1, missing=None, n_estimators=100,\n",
      "       n_jobs=3, nthread=None, objective='binary:logistic', random_state=0,\n",
      "       reg_alpha=0, reg_lambda=1, scale_pos_weight=1, seed=None,\n",
      "       silent=True, subsample=1)\n",
      "0.082402903987\n"
     ]
    }
   ],
   "source": [
    "import xgboost\n",
    "\n",
    "params = {\n",
    "    'n_jobs': 3\n",
    "}\n",
    "\n",
    "clf = xgboost.XGBClassifier(**params)\n",
    "\n",
    "clf.fit(X_train, y_train)\n",
    "print(clf)\n",
    "\n",
    "from sklearn.metrics import log_loss\n",
    "l = log_loss(y_test, clf.predict_proba(X_test))\n",
    "print(l)\n",
    "\n",
    "# 0.07741990448436642\n",
    "# 0.0773443155326832"
   ]
  },
  {
   "cell_type": "code",
   "execution_count": null,
   "metadata": {
    "collapsed": true
   },
   "outputs": [],
   "source": []
  },
  {
   "cell_type": "code",
   "execution_count": null,
   "metadata": {},
   "outputs": [],
   "source": [
    "from sklearn.metrics import log_loss\n",
    "\n",
    "log_loss(y_test, clf.predict_proba(X_test))\n"
   ]
  },
  {
   "cell_type": "code",
   "execution_count": null,
   "metadata": {},
   "outputs": [],
   "source": [
    "from sklearn.externals import joblib\n",
    "joblib.dump(clf, 'model/xgb_exp1_2.m')"
   ]
  },
  {
   "cell_type": "code",
   "execution_count": 126,
   "metadata": {},
   "outputs": [
    {
     "data": {
      "text/plain": [
       "<matplotlib.axes._subplots.AxesSubplot at 0x10da12c88>"
      ]
     },
     "execution_count": 126,
     "metadata": {},
     "output_type": "execute_result"
    },
    {
     "data": {
      "image/png": "[encoded data removed]",
      "text/plain": [
       "<matplotlib.figure.Figure at 0x10da132e8>"
      ]
     },
     "metadata": {},
     "output_type": "display_data"
    }
   ],
   "source": [
    "offline_df.groupby(['item_id_pv']).count().sort_index().reset_index()[['item_id_pv']].plot()"
   ]
  },
  {
   "cell_type": "code",
   "execution_count": 50,
   "metadata": {},
   "outputs": [
    {
     "data": {
      "text/html": [
       "<div>\n",
       "<style>\n",
       "    .dataframe thead tr:only-child th {\n",
       "        text-align: right;\n",
       "    }\n",
       "\n",
       "    .dataframe thead th {\n",
       "        text-align: left;\n",
       "    }\n",
       "\n",
       "    .dataframe tbody tr th {\n",
       "        vertical-align: top;\n",
       "    }\n",
       "</style>\n",
       "<table border=\"1\" class=\"dataframe\">\n",
       "  <thead>\n",
       "    <tr style=\"text-align: right;\">\n",
       "      <th></th>\n",
       "      <th>instance_id</th>\n",
       "      <th>item_id</th>\n",
       "      <th>item_brand_id</th>\n",
       "      <th>item_city_id</th>\n",
       "      <th>item_price_level</th>\n",
       "      <th>item_sales_level</th>\n",
       "      <th>item_collected_level</th>\n",
       "      <th>item_pv_level</th>\n",
       "      <th>user_id</th>\n",
       "      <th>user_gender_id</th>\n",
       "      <th>...</th>\n",
       "      <th>context_timestamp</th>\n",
       "      <th>context_page_id</th>\n",
       "      <th>shop_id</th>\n",
       "      <th>shop_review_num_level</th>\n",
       "      <th>shop_review_positive_rate</th>\n",
       "      <th>shop_star_level</th>\n",
       "      <th>shop_score_service</th>\n",
       "      <th>shop_score_delivery</th>\n",
       "      <th>shop_score_description</th>\n",
       "      <th>is_trade</th>\n",
       "    </tr>\n",
       "  </thead>\n",
       "  <tbody>\n",
       "    <tr>\n",
       "      <th>count</th>\n",
       "      <td>4.781380e+05</td>\n",
       "      <td>4.781380e+05</td>\n",
       "      <td>4.781380e+05</td>\n",
       "      <td>4.781380e+05</td>\n",
       "      <td>478138.000000</td>\n",
       "      <td>477225.000000</td>\n",
       "      <td>478138.000000</td>\n",
       "      <td>478138.000000</td>\n",
       "      <td>4.781380e+05</td>\n",
       "      <td>478138.000000</td>\n",
       "      <td>...</td>\n",
       "      <td>4.781380e+05</td>\n",
       "      <td>478138.000000</td>\n",
       "      <td>4.781380e+05</td>\n",
       "      <td>478138.000000</td>\n",
       "      <td>478138.000000</td>\n",
       "      <td>478138.000000</td>\n",
       "      <td>478138.000000</td>\n",
       "      <td>478138.000000</td>\n",
       "      <td>478138.000000</td>\n",
       "      <td>478138.000000</td>\n",
       "    </tr>\n",
       "    <tr>\n",
       "      <th>mean</th>\n",
       "      <td>4.613082e+18</td>\n",
       "      <td>4.594622e+18</td>\n",
       "      <td>4.838444e+18</td>\n",
       "      <td>5.500420e+18</td>\n",
       "      <td>6.777175</td>\n",
       "      <td>11.157054</td>\n",
       "      <td>12.199336</td>\n",
       "      <td>17.128676</td>\n",
       "      <td>4.609864e+18</td>\n",
       "      <td>0.213047</td>\n",
       "      <td>...</td>\n",
       "      <td>1.537502e+09</td>\n",
       "      <td>4003.362366</td>\n",
       "      <td>4.733842e+18</td>\n",
       "      <td>15.768353</td>\n",
       "      <td>0.994830</td>\n",
       "      <td>5013.175240</td>\n",
       "      <td>0.971124</td>\n",
       "      <td>0.970497</td>\n",
       "      <td>0.974863</td>\n",
       "      <td>0.018867</td>\n",
       "    </tr>\n",
       "    <tr>\n",
       "      <th>std</th>\n",
       "      <td>2.663448e+18</td>\n",
       "      <td>2.710140e+18</td>\n",
       "      <td>2.694756e+18</td>\n",
       "      <td>2.464881e+18</td>\n",
       "      <td>1.089037</td>\n",
       "      <td>2.536297</td>\n",
       "      <td>2.497312</td>\n",
       "      <td>2.160745</td>\n",
       "      <td>2.663355e+18</td>\n",
       "      <td>0.514699</td>\n",
       "      <td>...</td>\n",
       "      <td>1.726222e+05</td>\n",
       "      <td>4.019709</td>\n",
       "      <td>2.596118e+18</td>\n",
       "      <td>2.825294</td>\n",
       "      <td>0.011972</td>\n",
       "      <td>2.590989</td>\n",
       "      <td>0.023817</td>\n",
       "      <td>0.023776</td>\n",
       "      <td>0.025024</td>\n",
       "      <td>0.136055</td>\n",
       "    </tr>\n",
       "    <tr>\n",
       "      <th>min</th>\n",
       "      <td>3.823219e+12</td>\n",
       "      <td>6.964907e+14</td>\n",
       "      <td>-1.000000e+00</td>\n",
       "      <td>-1.000000e+00</td>\n",
       "      <td>0.000000</td>\n",
       "      <td>1.000000</td>\n",
       "      <td>0.000000</td>\n",
       "      <td>0.000000</td>\n",
       "      <td>2.477979e+13</td>\n",
       "      <td>-1.000000</td>\n",
       "      <td>...</td>\n",
       "      <td>1.537200e+09</td>\n",
       "      <td>4001.000000</td>\n",
       "      <td>1.543560e+15</td>\n",
       "      <td>0.000000</td>\n",
       "      <td>-1.000000</td>\n",
       "      <td>4999.000000</td>\n",
       "      <td>-1.000000</td>\n",
       "      <td>-1.000000</td>\n",
       "      <td>-1.000000</td>\n",
       "      <td>0.000000</td>\n",
       "    </tr>\n",
       "    <tr>\n",
       "      <th>25%</th>\n",
       "      <td>2.308543e+18</td>\n",
       "      <td>2.251088e+18</td>\n",
       "      <td>2.357806e+18</td>\n",
       "      <td>3.948283e+18</td>\n",
       "      <td>6.000000</td>\n",
       "      <td>10.000000</td>\n",
       "      <td>11.000000</td>\n",
       "      <td>16.000000</td>\n",
       "      <td>2.302761e+18</td>\n",
       "      <td>0.000000</td>\n",
       "      <td>...</td>\n",
       "      <td>1.537351e+09</td>\n",
       "      <td>4001.000000</td>\n",
       "      <td>2.498543e+18</td>\n",
       "      <td>14.000000</td>\n",
       "      <td>0.992779</td>\n",
       "      <td>5012.000000</td>\n",
       "      <td>0.966360</td>\n",
       "      <td>0.965684</td>\n",
       "      <td>0.969268</td>\n",
       "      <td>0.000000</td>\n",
       "    </tr>\n",
       "    <tr>\n",
       "      <th>50%</th>\n",
       "      <td>4.613478e+18</td>\n",
       "      <td>4.636270e+18</td>\n",
       "      <td>5.051040e+18</td>\n",
       "      <td>6.738284e+18</td>\n",
       "      <td>7.000000</td>\n",
       "      <td>11.000000</td>\n",
       "      <td>12.000000</td>\n",
       "      <td>17.000000</td>\n",
       "      <td>4.608490e+18</td>\n",
       "      <td>0.000000</td>\n",
       "      <td>...</td>\n",
       "      <td>1.537506e+09</td>\n",
       "      <td>4001.000000</td>\n",
       "      <td>4.629590e+18</td>\n",
       "      <td>16.000000</td>\n",
       "      <td>1.000000</td>\n",
       "      <td>5013.000000</td>\n",
       "      <td>0.972347</td>\n",
       "      <td>0.971590</td>\n",
       "      <td>0.978493</td>\n",
       "      <td>0.000000</td>\n",
       "    </tr>\n",
       "    <tr>\n",
       "      <th>75%</th>\n",
       "      <td>6.920994e+18</td>\n",
       "      <td>7.007158e+18</td>\n",
       "      <td>7.565625e+18</td>\n",
       "      <td>7.534239e+18</td>\n",
       "      <td>8.000000</td>\n",
       "      <td>13.000000</td>\n",
       "      <td>14.000000</td>\n",
       "      <td>19.000000</td>\n",
       "      <td>6.914375e+18</td>\n",
       "      <td>0.000000</td>\n",
       "      <td>...</td>\n",
       "      <td>1.537635e+09</td>\n",
       "      <td>4004.000000</td>\n",
       "      <td>6.740687e+18</td>\n",
       "      <td>17.000000</td>\n",
       "      <td>1.000000</td>\n",
       "      <td>5015.000000</td>\n",
       "      <td>0.977822</td>\n",
       "      <td>0.976978</td>\n",
       "      <td>0.983640</td>\n",
       "      <td>0.000000</td>\n",
       "    </tr>\n",
       "    <tr>\n",
       "      <th>max</th>\n",
       "      <td>9.223362e+18</td>\n",
       "      <td>9.221980e+18</td>\n",
       "      <td>9.222396e+18</td>\n",
       "      <td>9.151271e+18</td>\n",
       "      <td>17.000000</td>\n",
       "      <td>17.000000</td>\n",
       "      <td>17.000000</td>\n",
       "      <td>21.000000</td>\n",
       "      <td>9.223345e+18</td>\n",
       "      <td>2.000000</td>\n",
       "      <td>...</td>\n",
       "      <td>1.537805e+09</td>\n",
       "      <td>4020.000000</td>\n",
       "      <td>9.220773e+18</td>\n",
       "      <td>25.000000</td>\n",
       "      <td>1.000000</td>\n",
       "      <td>5020.000000</td>\n",
       "      <td>1.000000</td>\n",
       "      <td>1.000000</td>\n",
       "      <td>1.000000</td>\n",
       "      <td>1.000000</td>\n",
       "    </tr>\n",
       "  </tbody>\n",
       "</table>\n",
       "<p>8 rows × 24 columns</p>\n",
       "</div>"
      ],
      "text/plain": [
       "        instance_id       item_id  item_brand_id  item_city_id  \\\n",
       "count  4.781380e+05  4.781380e+05   4.781380e+05  4.781380e+05   \n",
       "mean   4.613082e+18  4.594622e+18   4.838444e+18  5.500420e+18   \n",
       "std    2.663448e+18  2.710140e+18   2.694756e+18  2.464881e+18   \n",
       "min    3.823219e+12  6.964907e+14  -1.000000e+00 -1.000000e+00   \n",
       "25%    2.308543e+18  2.251088e+18   2.357806e+18  3.948283e+18   \n",
       "50%    4.613478e+18  4.636270e+18   5.051040e+18  6.738284e+18   \n",
       "75%    6.920994e+18  7.007158e+18   7.565625e+18  7.534239e+18   \n",
       "max    9.223362e+18  9.221980e+18   9.222396e+18  9.151271e+18   \n",
       "\n",
       "       item_price_level  item_sales_level  item_collected_level  \\\n",
       "count     478138.000000     477225.000000         478138.000000   \n",
       "mean           6.777175         11.157054             12.199336   \n",
       "std            1.089037          2.536297              2.497312   \n",
       "min            0.000000          1.000000              0.000000   \n",
       "25%            6.000000         10.000000             11.000000   \n",
       "50%            7.000000         11.000000             12.000000   \n",
       "75%            8.000000         13.000000             14.000000   \n",
       "max           17.000000         17.000000             17.000000   \n",
       "\n",
       "       item_pv_level       user_id  user_gender_id      ...        \\\n",
       "count  478138.000000  4.781380e+05   478138.000000      ...         \n",
       "mean       17.128676  4.609864e+18        0.213047      ...         \n",
       "std         2.160745  2.663355e+18        0.514699      ...         \n",
       "min         0.000000  2.477979e+13       -1.000000      ...         \n",
       "25%        16.000000  2.302761e+18        0.000000      ...         \n",
       "50%        17.000000  4.608490e+18        0.000000      ...         \n",
       "75%        19.000000  6.914375e+18        0.000000      ...         \n",
       "max        21.000000  9.223345e+18        2.000000      ...         \n",
       "\n",
       "       context_timestamp  context_page_id       shop_id  \\\n",
       "count       4.781380e+05    478138.000000  4.781380e+05   \n",
       "mean        1.537502e+09      4003.362366  4.733842e+18   \n",
       "std         1.726222e+05         4.019709  2.596118e+18   \n",
       "min         1.537200e+09      4001.000000  1.543560e+15   \n",
       "25%         1.537351e+09      4001.000000  2.498543e+18   \n",
       "50%         1.537506e+09      4001.000000  4.629590e+18   \n",
       "75%         1.537635e+09      4004.000000  6.740687e+18   \n",
       "max         1.537805e+09      4020.000000  9.220773e+18   \n",
       "\n",
       "       shop_review_num_level  shop_review_positive_rate  shop_star_level  \\\n",
       "count          478138.000000              478138.000000    478138.000000   \n",
       "mean               15.768353                   0.994830      5013.175240   \n",
       "std                 2.825294                   0.011972         2.590989   \n",
       "min                 0.000000                  -1.000000      4999.000000   \n",
       "25%                14.000000                   0.992779      5012.000000   \n",
       "50%                16.000000                   1.000000      5013.000000   \n",
       "75%                17.000000                   1.000000      5015.000000   \n",
       "max                25.000000                   1.000000      5020.000000   \n",
       "\n",
       "       shop_score_service  shop_score_delivery  shop_score_description  \\\n",
       "count       478138.000000        478138.000000           478138.000000   \n",
       "mean             0.971124             0.970497                0.974863   \n",
       "std              0.023817             0.023776                0.025024   \n",
       "min             -1.000000            -1.000000               -1.000000   \n",
       "25%              0.966360             0.965684                0.969268   \n",
       "50%              0.972347             0.971590                0.978493   \n",
       "75%              0.977822             0.976978                0.983640   \n",
       "max              1.000000             1.000000                1.000000   \n",
       "\n",
       "            is_trade  \n",
       "count  478138.000000  \n",
       "mean        0.018867  \n",
       "std         0.136055  \n",
       "min         0.000000  \n",
       "25%         0.000000  \n",
       "50%         0.000000  \n",
       "75%         0.000000  \n",
       "max         1.000000  \n",
       "\n",
       "[8 rows x 24 columns]"
      ]
     },
     "execution_count": 50,
     "metadata": {},
     "output_type": "execute_result"
    }
   ],
   "source": [
    "offline_df.describe()"
   ]
  }
 ],
 "metadata": {
  "kernelspec": {
   "display_name": "Python 3",
   "language": "python",
   "name": "python3"
  }
 },
 "nbformat": 4,
 "nbformat_minor": 2
}
