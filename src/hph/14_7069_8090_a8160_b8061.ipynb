{
 "cells": [
  {
   "cell_type": "markdown",
   "metadata": {},
   "source": [
    "# 加上两个用户行为特征\n",
    "\n",
    "1. lb8157版本基础上\n",
    "2. 增加复合交易率信息\n",
    "3. 增加更多复合交易率，沿用旧的负向特征表\n",
    "\n"
   ]
  },
  {
   "cell_type": "code",
   "execution_count": 17,
   "metadata": {},
   "outputs": [],
   "source": [
    "import sys\n",
    "sys.path.append(\"..\")\n",
    "import pandas as pd\n",
    "import seaborn as sns\n",
    "import matplotlib.pyplot as plt\n",
    "from datetime import datetime\n",
    "\n",
    "%matplotlib inline\n",
    "%run ../util/base_frame.py\n",
    "\n",
    "train_df = pd.read_table('../../round1_ijcai_18_train_20180301.txt',sep=' ')\n",
    "test_df = pd.read_table('../../round1_ijcai_18_test_a_20180301.txt',sep=' ')\n",
    "\n",
    "fa = BaseFrame(train_df, test_df, 7)"
   ]
  },
  {
   "cell_type": "markdown",
   "metadata": {},
   "source": [
    "# 1 先处理时序数据"
   ]
  },
  {
   "cell_type": "code",
   "execution_count": 18,
   "metadata": {},
   "outputs": [
    {
     "name": "stdout",
     "output_type": "stream",
     "text": [
      "(496509, 32)\n"
     ]
    }
   ],
   "source": [
    "# 时间处理: 分离天, 星期几, 上中下午/晚上, 小时数\n",
    "# date最终不使用，直接用day(第 0 - 7 天)\n",
    "\n",
    "from sklearn import preprocessing\n",
    "from datetime import datetime\n",
    "le = preprocessing.LabelEncoder()\n",
    "\n",
    "def extract_weekday(x):\n",
    "    d = datetime.fromtimestamp(x)\n",
    "    return d.weekday()\n",
    "def extract_hour(x):\n",
    "    d = datetime.fromtimestamp(x)\n",
    "    return d.hour\n",
    "\n",
    "fa.df['weekday'] = fa.df['context_timestamp'].apply(lambda x: extract_weekday(x))\n",
    "fa.df['hour'] = fa.df['context_timestamp'].apply(lambda x: extract_hour(x))\n",
    "print(fa.df.shape)"
   ]
  },
  {
   "cell_type": "markdown",
   "metadata": {},
   "source": [
    "# 2 特征处理"
   ]
  },
  {
   "cell_type": "markdown",
   "metadata": {},
   "source": [
    "### 重复列特征"
   ]
  },
  {
   "cell_type": "code",
   "execution_count": 19,
   "metadata": {},
   "outputs": [
    {
     "name": "stdout",
     "output_type": "stream",
     "text": [
      "(496509, 46)\n"
     ]
    }
   ],
   "source": [
    "%run ../util/time_utils.py\n",
    "dup_feat = ['item_id', 'user_id']\n",
    "fa.df = generateColDupByDay(fa.df, dup_feat, list(range(1, 8)), verbose=False)\n",
    "print(fa.df.shape)"
   ]
  },
  {
   "cell_type": "markdown",
   "metadata": {},
   "source": [
    "### 交易率特征选择\n",
    "\n",
    "*固定smooth为10*\n",
    "\n",
    "1. 特征是否独立提升?\n",
    "2. 平滑是否不会改变正负向?\n",
    "\n",
    "##### 正向特征\n",
    "\n",
    "> item_city_id, shop_id, user_gender_id, item_sales_level, item_collected_level, shop_review_num_level\n",
    "\n",
    "##### 负向特征\n",
    "\n",
    "> item_price_level,\n",
    "item_id,item_brand_id,item_pv_level,user_age_level,\n",
    "user_occupation_id,user_star_level,context_page_id,\n",
    "shop_review_positive_rate,shop_star_level,\n",
    "shop_score_service,shop_score_description,day,hour\n"
   ]
  },
  {
   "cell_type": "code",
   "execution_count": 20,
   "metadata": {},
   "outputs": [
    {
     "name": "stderr",
     "output_type": "stream",
     "text": [
      "C:\\Anaconda3\\lib\\site-packages\\pandas\\core\\series.py:696: FutureWarning: \n",
      "Passing list-likes to .loc or [] with any missing label will raise\n",
      "KeyError in the future, you can use .reindex() as an alternative.\n",
      "\n",
      "See the documentation here:\n",
      "http://pandas.pydata.org/pandas-docs/stable/indexing.html#deprecate-loc-reindex-listlike\n",
      "  return self.loc[key]\n"
     ]
    },
    {
     "name": "stdout",
     "output_type": "stream",
     "text": [
      "(496509, 55)\n"
     ]
    }
   ],
   "source": [
    "# 计算前一天的交易率set到下一天，第0天用回自己\n",
    "%run ../util/trade_info.py\n",
    "\n",
    "trade_rela = ['item_id', 'item_brand_id', 'shop_id', 'user_id']\n",
    "\n",
    "generateTradeRateByDate(fa.df, trade_rela, 7, None, verbose=False, glbSmoothing=200, glbMean0=0.05)\n",
    "print(fa.df.shape)"
   ]
  },
  {
   "cell_type": "markdown",
   "metadata": {},
   "source": [
    "### 复合交易率"
   ]
  },
  {
   "cell_type": "code",
   "execution_count": 21,
   "metadata": {},
   "outputs": [
    {
     "data": {
      "text/plain": [
       "Index(['instance_id', 'item_id', 'item_category_list', 'item_property_list',\n",
       "       'item_brand_id', 'item_city_id', 'item_price_level', 'item_sales_level',\n",
       "       'item_collected_level', 'item_pv_level', 'user_id', 'user_gender_id',\n",
       "       'user_age_level', 'user_occupation_id', 'user_star_level', 'context_id',\n",
       "       'context_timestamp', 'context_page_id', 'predict_category_property',\n",
       "       'shop_id', 'shop_review_num_level', 'shop_review_positive_rate',\n",
       "       'shop_star_level', 'shop_score_service', 'shop_score_delivery',\n",
       "       'shop_score_description', 'is_trade', 'date', 'day', 'data_set',\n",
       "       'weekday', 'hour', 'item_id_dup_gg_1', 'item_id_dup_gg_2',\n",
       "       'item_id_dup_gg_3', 'item_id_dup_gg_4', 'item_id_dup_gg_5',\n",
       "       'item_id_dup_gg_6', 'item_id_dup_gg_7', 'user_id_dup_gg_1',\n",
       "       'user_id_dup_gg_2', 'user_id_dup_gg_3', 'user_id_dup_gg_4',\n",
       "       'user_id_dup_gg_5', 'user_id_dup_gg_6', 'user_id_dup_gg_7', '_key1',\n",
       "       'exp_d_item_id', 'cnt_d_item_id', 'exp_d_item_brand_id',\n",
       "       'cnt_d_item_brand_id', 'exp_d_shop_id', 'cnt_d_shop_id',\n",
       "       'exp_d_user_id', 'cnt_d_user_id'],\n",
       "      dtype='object')"
      ]
     },
     "execution_count": 21,
     "metadata": {},
     "output_type": "execute_result"
    }
   ],
   "source": [
    "fa.df.columns"
   ]
  },
  {
   "cell_type": "code",
   "execution_count": 22,
   "metadata": {
    "scrolled": false
   },
   "outputs": [
    {
     "name": "stdout",
     "output_type": "stream",
     "text": [
      "data before day 0 is setted, with period 7, data size 78268\n",
      "data before day 1 is setted, with period 7, data size 70931\n",
      "data before day 2 is setted, with period 7, data size 68387\n",
      "data before day 3 is setted, with period 7, data size 71199\n",
      "data before day 4 is setted, with period 7, data size 68318\n",
      "data before day 5 is setted, with period 7, data size 63614\n",
      "data before day 6 is setted, with period 7, data size 57421\n",
      "data before day 7 is setted, with period 7, data size 18371\n",
      "data before day 0 is setted, with period 7, data size 78268\n",
      "data before day 1 is setted, with period 7, data size 70931\n",
      "data before day 2 is setted, with period 7, data size 68387\n",
      "data before day 3 is setted, with period 7, data size 71199\n",
      "data before day 4 is setted, with period 7, data size 68318\n",
      "data before day 5 is setted, with period 7, data size 63614\n",
      "data before day 6 is setted, with period 7, data size 57421\n",
      "data before day 7 is setted, with period 7, data size 18371\n",
      "data before day 0 is setted, with period 7, data size 78268\n",
      "data before day 1 is setted, with period 7, data size 70931\n",
      "data before day 2 is setted, with period 7, data size 68387\n",
      "data before day 3 is setted, with period 7, data size 71199\n",
      "data before day 4 is setted, with period 7, data size 68318\n",
      "data before day 5 is setted, with period 7, data size 63614\n",
      "data before day 6 is setted, with period 7, data size 57421\n",
      "data before day 7 is setted, with period 7, data size 18371\n",
      "data before day 0 is setted, with period 7, data size 78268\n",
      "data before day 1 is setted, with period 7, data size 70931\n",
      "data before day 2 is setted, with period 7, data size 68387\n",
      "data before day 3 is setted, with period 7, data size 71199\n",
      "data before day 4 is setted, with period 7, data size 68318\n",
      "data before day 5 is setted, with period 7, data size 63614\n",
      "data before day 6 is setted, with period 7, data size 57421\n",
      "data before day 7 is setted, with period 7, data size 18371\n",
      "data before day 0 is setted, with period 7, data size 78268\n",
      "data before day 1 is setted, with period 7, data size 70931\n",
      "data before day 2 is setted, with period 7, data size 68387\n",
      "data before day 3 is setted, with period 7, data size 71199\n",
      "data before day 4 is setted, with period 7, data size 68318\n",
      "data before day 5 is setted, with period 7, data size 63614\n",
      "data before day 6 is setted, with period 7, data size 57421\n",
      "data before day 7 is setted, with period 7, data size 18371\n",
      "data before day 0 is setted, with period 7, data size 78268\n",
      "data before day 1 is setted, with period 7, data size 70931\n",
      "data before day 2 is setted, with period 7, data size 68387\n",
      "data before day 3 is setted, with period 7, data size 71199\n",
      "data before day 4 is setted, with period 7, data size 68318\n",
      "data before day 5 is setted, with period 7, data size 63614\n",
      "data before day 6 is setted, with period 7, data size 57421\n",
      "data before day 7 is setted, with period 7, data size 18371\n",
      "(496509, 73)\n"
     ]
    }
   ],
   "source": [
    "%run  ../util/trade_info.py\n",
    "\n",
    "\n",
    "fa.df['u2i_sz'], fa.df['u2i_sum'], fa.df['u2i_rate'] = getMultiTradeRate(fa.df, ['user_id', 'item_id'])\n",
    "fa.df['u2shop_sz'], fa.df['u2shop_sum'], fa.df['u2shop_rate'] = getMultiTradeRate(fa.df, ['user_id', 'shop_id'])\n",
    "fa.df['u2brand_sz'], fa.df['u2brand_sum'], fa.df['u2brand_rate'] = getMultiTradeRate(fa.df, ['user_id', 'item_brand_id'])\n",
    "fa.df['u2page_sz'], fa.df['u2page_sum'], fa.df['u2page_rate'] = getMultiTradeRate(fa.df, ['user_id', 'context_page_id'])\n",
    "fa.df['u2hour_sz'], fa.df['u2hour_sum'], fa.df['u2hour_rate'] = getMultiTradeRate(fa.df, ['user_id', 'hour'])\n",
    "fa.df['u2sstar_sz'], fa.df['u2sstar_sum'], fa.df['u2sstar_rate'] = getMultiTradeRate(fa.df, ['user_id', 'shop_star_level'])\n",
    "print(fa.df.shape)"
   ]
  },
  {
   "cell_type": "markdown",
   "metadata": {},
   "source": [
    "### 复合类型拆解"
   ]
  },
  {
   "cell_type": "code",
   "execution_count": null,
   "metadata": {},
   "outputs": [
    {
     "name": "stdout",
     "output_type": "stream",
     "text": [
      "get_icl_map ... \n",
      "get_ipl_map ... \n",
      "processing predict_category_property ...\n",
      "processing item_property_list ...\n",
      "processing item_category_list ...\n",
      "generating item_category_1, item_category_2 ...\n",
      "(496509, 82)\n"
     ]
    }
   ],
   "source": [
    "%run ../util/complex_type.py\n",
    "from sklearn import preprocessing\n",
    "from datetime import datetime\n",
    "le = preprocessing.LabelEncoder()\n",
    "fa.df = process_complex_types_v2(fa.df, get_icl_map(fa.df), get_ipl_map(fa.df))\n",
    "\n",
    "fa.df['item_category_1'] = le.fit_transform(fa.df.item_category_1)\n",
    "fa.df['item_category_2'] = le.fit_transform(fa.df.item_category_2)\n",
    "print(fa.df.shape)"
   ]
  },
  {
   "cell_type": "code",
   "execution_count": null,
   "metadata": {},
   "outputs": [],
   "source": [
    "%run ../util/complex_type.py\n",
    "\n",
    "cnt_user_item_review = fa.df[[\"user_id\", \"item_id\", \"instance_id\"]].groupby([\"user_id\", \"item_id\"])['instance_id'].count().to_dict() \n",
    "cnt_user_cate_review = fa.df[[\"user_id\", \"item_category_1\", \"instance_id\"]].groupby([\"user_id\", \"item_category_1\"])['instance_id'].count().to_dict()  \n",
    "\n",
    "f1 = set_review_cnt(\"user_id\", \"item_id\", cnt_user_item_review)\n",
    "f2 = set_review_cnt(\"user_id\", \"item_category_1\", cnt_user_cate_review)\n",
    "\n",
    "tmp = fa.df.sort_values(by=\"context_timestamp\")\n",
    "tmp[\"item_review_cnt\"] = tmp[[\"user_id\", \"item_id\"]].apply(f1, axis=1)\n",
    "tmp[\"cate_review_cnt\"] = tmp[[\"user_id\", \"item_category_1\"]].apply(f2, axis=1)\n",
    "fa.df = tmp.sort_index()\n",
    "\n",
    "print(fa.df.shape)"
   ]
  },
  {
   "cell_type": "code",
   "execution_count": null,
   "metadata": {},
   "outputs": [],
   "source": [
    "fa.df.columns"
   ]
  },
  {
   "cell_type": "markdown",
   "metadata": {},
   "source": [
    "# 3 训练"
   ]
  },
  {
   "cell_type": "code",
   "execution_count": null,
   "metadata": {
    "scrolled": false
   },
   "outputs": [],
   "source": [
    "import xgboost\n",
    "from sklearn.model_selection import ParameterGrid\n",
    "#import lightgbm as lgb\n",
    "%run ../util/base_frame.py\n",
    "\n",
    "\n",
    "non_feat_columns = ['context_timestamp', 'instance_id', 'is_trade', 'context_id',\n",
    "                   'item_property_list', 'item_category_list',  'predict_category_property','tmp'\n",
    "                   ]\n",
    "\n",
    "params = {\n",
    "    'n_jobs':[7],\n",
    "    'max_depth':[5],\n",
    "    'n_estimators':[91],\n",
    "    'min_child_weight':[5],\n",
    "    'gamma':[5]\n",
    "}\n",
    "\n",
    "xgb = None\n",
    "\n",
    "# cnt_d_shop_id 单特征变差，全集变好\n",
    "neg_feat_columns = ['exp_d_user_id', 'cnt_d_item_id', 'cnt_d_item_brand_id']\n",
    "\n",
    "\n",
    "\n",
    "if sum(fa.y_test == -1) == 0:\n",
    "    # 进入测试阶段\n",
    "    xgb = xgboost.XGBClassifier(n_jobs=7)\n",
    "    for g in ParameterGrid(params):\n",
    "        xgb.set_params(**g)\n",
    "        print('>', '- '*40, '\\n\\n> ', g, '\\n')\n",
    "#         fa.fit(xgb, pos_feat_columns, '11', drop=False)\n",
    "        fa.fit(xgb, non_feat_columns+neg_feat_columns, '14', drop=True)\n",
    "        # fa.fit(xgb, non_feat_columns+['exp_d_user_id', 'cnt_d_item_brand_id'], '11', drop=True)\n",
    "else:\n",
    "    # 进入提交阶段\n",
    "    xgb = xgboost.XGBClassifier(**{'gamma': 5, 'max_depth': 5, 'min_child_weight': 5, 'n_estimators': 91, 'n_jobs': 7})\n",
    "    fa.fit(xgb, non_feat_columns+neg_feat_columns, '14_7069_8090_a8160_b8061', drop=True)\n",
    "\n",
    "# lb8157 base\n",
    "# -exp_d_user_id: 8092\n",
    "# -cnt_d_shop_id: 8100\n",
    "# -cnt_d_item_id: 8091\n",
    "# -cnt_d_item_brand_id: 8094\n",
    "# -shop_id_dup_gg_6: 8096\n",
    "# -weekday: 8096\n",
    "# \n",
    "\n",
    "    \n",
    "# 0维特征 8590\n",
    "# item_price_level: 8467, 21842\n",
    "# exp_d_user_id: 8794\n",
    "# day: 8582\n",
    "# item_review_cnt: 8514\n",
    "# exp_d_item_id: 8407\n",
    "# shop_score_delivery: 8553\n",
    "# exp_d_shop_id: 8379\n",
    "# user_id_dup_gg_1: 8574\n",
    "# item_sales_level: 8507\n",
    "# user_star_level: 8587\n",
    "# user_id_dup_gg_3: 8575"
   ]
  },
  {
   "cell_type": "code",
   "execution_count": null,
   "metadata": {
    "scrolled": false
   },
   "outputs": [],
   "source": [
    "# 找出每个单特征的logloss\n",
    "# gg = None\n",
    "# for g in ParameterGrid(params):\n",
    "#     gg = g\n",
    "\n",
    "# guess_feat = [x for x in fa.df.columns if x not in non_feat_columns and x not in ['date', 'date_set']]\n",
    "    \n",
    "# xgb = xgboost.XGBClassifier(n_jobs=7)\n",
    "# xgb.set_params(**g)\n",
    "# for ft in guess_feat:\n",
    "    \n",
    "#     print('- '*40)\n",
    "#     print(ft)\n",
    "#     fa.fit(xgb, [ft]+non_feat_columns, '11', drop=True)\n",
    "    "
   ]
  },
  {
   "cell_type": "code",
   "execution_count": null,
   "metadata": {
    "scrolled": false
   },
   "outputs": [],
   "source": [
    "fig,ax = plt.subplots(figsize=(12,18))\n",
    "xgboost.plot_importance(xgb, ax=ax, importance_type='cover')\n",
    "plt.show()"
   ]
  },
  {
   "cell_type": "markdown",
   "metadata": {},
   "source": [
    "# 4 超参搜索"
   ]
  },
  {
   "cell_type": "code",
   "execution_count": null,
   "metadata": {
    "scrolled": false
   },
   "outputs": [],
   "source": [
    "from sklearn.model_selection import ParameterGrid\n",
    "# 训练模型\n",
    "from sklearn.metrics import log_loss\n",
    "from sklearn.model_selection import train_test_split\n",
    "import xgboost\n",
    "\n",
    "params={\n",
    "    'max_depth': [5],#[6,10,15,20], # 5 is good but takes too long in kaggle env\n",
    "    'subsample': np.arange(0.9,1,0.1),#[1,0.9,0.8,0.7],#[0.1,0.2,0.3,0.4,0.5,0.55,0.6,0.65,0.7,0.8,0.9],#[0.9]\n",
    "    'colsample_bytree': [1],#[0.1,0.2,0.3,0.4,0.5,0.6,0.65,0.7,0.75,0.8,0.9,0.95],#[0.9],\n",
    "    'colsample_bylevel':[1],#[0.1,0.2,0.3,0.4,0.5,0.6,0.7,0.8,0.9,1],\n",
    "    'scale_pos_weight':[1],#[0.7,0.8,1,1.1,1.2],#0.1,0.5,1,2,5\n",
    "    'max_delta_step':np.arange(0.91,0.99,0.01),#[0,0.1,0.001,0.05,0.005,0.5,1,2],\n",
    "    'n_estimators': [91],#[100,90,91,92,93,94,95,96,97,98,99],#[200,230,260,270,280,290,300]\n",
    "    'reg_lambda': np.arange(0.5,1.5,0.1),#[1.3,1.4,1.5,1.6],\n",
    "    'reg_alpha': [0],#[0,0.01,0.1,0.02,0.2],#[0.01,0.05,0.005,0.2,0.1,0.02,0.0001,0],#\n",
    "    'min_child_weight':[5],#[7,8,9,10,11,12,13,14,15,16,17,18,19,20],#[23],#[20,21,22,23,24,25,26],#\n",
    "    'gamma':[6],#[6],#[0.1],#\n",
    "    'learning_rate':[0.1],#[0.01,0.015,0.02,0.025,0.05,0.005,0.1],#[0.02]#\n",
    "}\n",
    "\n",
    "# if sum(y_test == -1) == 0:\n",
    "#     xgb = xgboost.XGBClassifier(n_jobs=7)\n",
    "#     best_score = 1 \n",
    "#     for g in ParameterGrid(params):\n",
    "#         xgb.set_params(**g)\n",
    "\n",
    "#         # 分离a,b榜\n",
    "#         X_val_a, X_val_b, y_val_a, y_val_b = train_test_split(X_test, y_test, test_size=0.7, shuffle=True, random_state=6)\n",
    "#         m = xgb.fit(X_train, y_train, eval_metric='logloss')\n",
    "\n",
    "#         val_train_loss = log_loss(y_train, m.predict_proba(X_train))\n",
    "#         val_test_loss = log_loss(y_test, m.predict_proba(X_test))\n",
    "#         val_a_loss = log_loss(y_val_a, m.predict_proba(X_val_a))\n",
    "#         val_b_loss = log_loss(y_val_b, m.predict_proba(X_val_b))\n",
    "#         print('-'*80)\n",
    "#         print(g)\n",
    "#         print('(%s -> %s) train logloss: %.5f, test logloss: %.5f, a: %.5f, b: %.5f' % \\\n",
    "#               (starts, ends, val_train_loss, val_test_loss, val_a_loss, val_b_loss))\n",
    "\n",
    "#         # save if best\n",
    "#         if val_test_loss < best_score:\n",
    "#             best_score = val_test_loss\n",
    "#             best_grid = g\n",
    "\n",
    "#     print('-'*80, '\\n')        \n",
    "#     print (\"log loss: %0.5f\" % best_score )\n",
    "#     print (\"Grid:\", best_grid)"
   ]
  },
  {
   "cell_type": "code",
   "execution_count": null,
   "metadata": {},
   "outputs": [],
   "source": [
    "from datetime import datetime\n",
    "print(datetime.now())"
   ]
  },
  {
   "cell_type": "code",
   "execution_count": null,
   "metadata": {},
   "outputs": [],
   "source": []
  }
 ],
 "metadata": {
  "kernelspec": {
   "display_name": "Python 3",
   "language": "python",
   "name": "python3"
  },
  "language_info": {
   "codemirror_mode": {
    "name": "ipython",
    "version": 3
   },
   "file_extension": ".py",
   "mimetype": "text/x-python",
   "name": "python",
   "nbconvert_exporter": "python",
   "pygments_lexer": "ipython3",
   "version": "3.6.4"
  }
 },
 "nbformat": 4,
 "nbformat_minor": 2
}
