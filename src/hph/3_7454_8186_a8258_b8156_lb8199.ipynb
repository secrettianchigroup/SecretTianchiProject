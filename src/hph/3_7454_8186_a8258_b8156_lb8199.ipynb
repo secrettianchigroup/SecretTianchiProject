{
 "cells": [
  {
   "cell_type": "markdown",
   "metadata": {},
   "source": [
    "# 加上复合类型\n",
    "\n",
    "1. 8234 base\n"
   ]
  },
  {
   "cell_type": "code",
   "execution_count": 1,
   "metadata": {},
   "outputs": [],
   "source": [
    "import sys\n",
    "sys.path.append(\"..\")\n",
    "import pandas as pd\n",
    "import seaborn as sns\n",
    "import matplotlib.pyplot as plt\n",
    "from datetime import datetime\n",
    "\n",
    "%matplotlib inline\n",
    "\n",
    "train_df = pd.read_table('../../round1_ijcai_18_train_20180301.txt',sep=' ')\n",
    "test_df = pd.read_table('../../round1_ijcai_18_test_a_20180301.txt',sep=' ')\n",
    "\n",
    "# 线下线上数据统一进行特征处理\n",
    "test_df['is_trade'] = -1\n",
    "total_df = pd.concat([train_df, test_df], axis=0, ignore_index=True)"
   ]
  },
  {
   "cell_type": "markdown",
   "metadata": {},
   "source": [
    "# 1 先处理时序数据"
   ]
  },
  {
   "cell_type": "code",
   "execution_count": 2,
   "metadata": {},
   "outputs": [],
   "source": [
    "# 时间处理: 分离天, 星期几, 上中下午/晚上, 小时数\n",
    "# date最终不使用，直接用day(第 0 - 7 天)\n",
    "\n",
    "from sklearn import preprocessing\n",
    "from datetime import datetime\n",
    "le = preprocessing.LabelEncoder()\n",
    "\n",
    "def extract_date(x):\n",
    "    d = datetime.fromtimestamp(x)\n",
    "    return d.strftime('%Y-%m-%d')\n",
    "def extract_weekday(x):\n",
    "    d = datetime.fromtimestamp(x)\n",
    "    return d.weekday()\n",
    "def extract_hour(x):\n",
    "    d = datetime.fromtimestamp(x)\n",
    "    return d.hour\n",
    "\n",
    "total_df['date'] = total_df['context_timestamp'].apply(lambda x: extract_date(x))\n",
    "total_df['day'] = le.fit_transform(total_df['date'])\n",
    "total_df['weekday'] = total_df['context_timestamp'].apply(lambda x: extract_weekday(x))\n",
    "total_df['hour'] = total_df['context_timestamp'].apply(lambda x: extract_hour(x))"
   ]
  },
  {
   "cell_type": "markdown",
   "metadata": {},
   "source": [
    "# 2 先分离训练集, 测试集, 线上集\n",
    "\n"
   ]
  },
  {
   "cell_type": "code",
   "execution_count": 3,
   "metadata": {
    "scrolled": false
   },
   "outputs": [
    {
     "name": "stdout",
     "output_type": "stream",
     "text": [
      "(420717,) (57421,)\n"
     ]
    }
   ],
   "source": [
    "# 获取训练测试的索引, 6全集数据验证, 7为生成上线文件\n",
    "import numpy as np\n",
    "test_day= 6\n",
    "starts = list(range(0,test_day))\n",
    "ends = [test_day]\n",
    "train_indices = total_df[total_df['day'].isin(starts)].index.values\n",
    "test_indices = total_df[total_df['day'].isin(ends)].index.values\n",
    "print(train_indices.shape, test_indices.shape)\n",
    "\n",
    "tmp_df = total_df.copy()\n",
    "\n",
    "# 把测试索引的label提取\n",
    "y_test = tmp_df.iloc[test_indices]['is_trade']\n",
    "\n",
    "# 把需要训练和测试的数据提取, 并且强制去掉测试集的label列\n",
    "tmp_df.loc[test_indices, 'is_trade'] = np.nan\n",
    "\n",
    "# 得出训练测试必须的数据集 ,并且添加一列data_set作为标记\n",
    "train_tmp = tmp_df.iloc[train_indices].copy()\n",
    "train_tmp['data_set'] = 'training'\n",
    "test_tmp = tmp_df.iloc[test_indices].copy()\n",
    "test_tmp['data_set'] = 'testing'\n",
    "raw_df = train_tmp.append(test_tmp)\n"
   ]
  },
  {
   "cell_type": "markdown",
   "metadata": {},
   "source": [
    "### 重复列特征"
   ]
  },
  {
   "cell_type": "code",
   "execution_count": 4,
   "metadata": {},
   "outputs": [],
   "source": [
    "%run ../util/time_utils.py\n",
    "dup_feat = ['item_id', 'item_brand_id', 'shop_id', 'user_id']\n",
    "raw_df = generateColDupByDay(raw_df, dup_feat, list(range(1, 8)), verbose=False)"
   ]
  },
  {
   "cell_type": "markdown",
   "metadata": {},
   "source": [
    "### 交易率特征选择\n",
    "\n",
    "*固定smooth为10*\n",
    "\n",
    "1. 特征是否独立提升?\n",
    "2. 平滑是否不会改变正负向?\n",
    "\n",
    "##### 正向特征\n",
    "\n",
    "> item_city_id, shop_id, user_gender_id, item_sales_level, item_collected_level, shop_review_num_level\n",
    "\n",
    "##### 负向特征\n",
    "\n",
    "> item_price_level,\n",
    "item_id,item_brand_id,item_pv_level,user_age_level,\n",
    "user_occupation_id,user_star_level,context_page_id,\n",
    "shop_review_positive_rate,shop_star_level,\n",
    "shop_score_service,shop_score_description,day,hour\n"
   ]
  },
  {
   "cell_type": "code",
   "execution_count": 5,
   "metadata": {},
   "outputs": [
    {
     "name": "stderr",
     "output_type": "stream",
     "text": [
      "C:\\Anaconda3\\lib\\site-packages\\pandas\\core\\series.py:696: FutureWarning: \n",
      "Passing list-likes to .loc or [] with any missing label will raise\n",
      "KeyError in the future, you can use .reindex() as an alternative.\n",
      "\n",
      "See the documentation here:\n",
      "http://pandas.pydata.org/pandas-docs/stable/indexing.html#deprecate-loc-reindex-listlike\n",
      "  return self.loc[key]\n"
     ]
    },
    {
     "name": "stdout",
     "output_type": "stream",
     "text": [
      "(478138, 71)\n"
     ]
    }
   ],
   "source": [
    "# 计算前一天的交易率set到下一天，第0天用回自己\n",
    "# %run ../util/time_utils.py\n",
    "\n",
    "# setTradeRateByDate(raw_df, ['item_city_id', 'item_id', 'item_brand_id', 'shop_id', 'user_id'])\n",
    "\n",
    "# 计算前一天的交易率set到下一天，第0天用回自己\n",
    "%run ../util/trade_info.py\n",
    "\n",
    "# trade_rela = ['item_city_id', 'shop_id', 'user_gender_id', 'item_sales_level', 'item_collected_level', 'shop_review_num_level']\n",
    "trade_rela = ['item_city_id', 'item_id', 'item_brand_id', 'shop_id', 'user_id']\n",
    "\n",
    "# colSm = {}\n",
    "# for col in trade_rela:\n",
    "#     colSm[col] = [15*(mean0) , 15]\n",
    "generateTradeRateByDate(raw_df, trade_rela, 7, None, verbose=False, glbSmoothing=200, glbMean0=0.05)\n",
    "print(raw_df.shape)"
   ]
  },
  {
   "cell_type": "markdown",
   "metadata": {},
   "source": [
    "### 复合类型拆解"
   ]
  },
  {
   "cell_type": "code",
   "execution_count": 6,
   "metadata": {},
   "outputs": [
    {
     "name": "stdout",
     "output_type": "stream",
     "text": [
      "get_icl_map ... \n",
      "get_ipl_map ... \n",
      "processing predict_category_property ...\n",
      "processing item_property_list ...\n",
      "processing item_category_list ...\n",
      "generating item_category_1, item_category_2 ...\n"
     ]
    }
   ],
   "source": [
    "%run ../util/complex_type.py\n",
    "from sklearn import preprocessing\n",
    "from datetime import datetime\n",
    "le = preprocessing.LabelEncoder()\n",
    "raw_df = process_complex_types(raw_df, get_icl_map(raw_df), get_ipl_map(raw_df))\n",
    "\n",
    "raw_df['item_category_1'] = le.fit_transform(raw_df.item_category_1)\n",
    "raw_df['item_category_2'] = le.fit_transform(raw_df.item_category_2)"
   ]
  },
  {
   "cell_type": "markdown",
   "metadata": {},
   "source": [
    "# 3 生成矩阵数据"
   ]
  },
  {
   "cell_type": "code",
   "execution_count": 7,
   "metadata": {},
   "outputs": [
    {
     "name": "stdout",
     "output_type": "stream",
     "text": [
      "(420717, 1) (420717, 66) (420717,) (57421, 66) (57421,)\n"
     ]
    }
   ],
   "source": [
    "train_df = raw_df[raw_df['data_set'] == 'training']\n",
    "test_df = raw_df[raw_df['data_set'] == 'testing']\n",
    "\n",
    "non_feat_columns = ['data_set', 'context_timestamp', 'instance_id', 'is_trade', 'context_id',\n",
    "                   'item_property_list', 'item_category_list', 'date', 'predict_category_property'\n",
    "                   ]\n",
    "\n",
    "D = train_df[['date']]\n",
    "X_train = train_df.drop(non_feat_columns, axis=1)\n",
    "y_train = train_df[['is_trade']].values.ravel()\n",
    "X_test = test_df.drop(non_feat_columns, axis=1)\n",
    "# y_test is already exists\n",
    "\n",
    "# X_online = test_df.drop(non_feat_columns, axis=1).values\n",
    "print(D.shape, X_train.shape, y_train.shape, X_test.shape, y_test.shape)"
   ]
  },
  {
   "cell_type": "code",
   "execution_count": 8,
   "metadata": {},
   "outputs": [
    {
     "name": "stdout",
     "output_type": "stream",
     "text": [
      "([0, 1, 2, 3, 4, 5] -> [6]) train logloss: 0.07454, test logloss: 0.08186, a: 0.08258, b: 0.08156\n"
     ]
    }
   ],
   "source": [
    "# 训练模型\n",
    "from sklearn.metrics import log_loss\n",
    "from sklearn.model_selection import train_test_split\n",
    "import xgboost\n",
    "\n",
    "#import lightgbm as lgb\n",
    "\n",
    "%run ../util/time_series_split.py\n",
    "\n",
    "# clf = lgb.LGBMClassifier(n_jobs=20)\n",
    "clf = xgboost.XGBClassifier(n_jobs=7,max_depth=5,n_estimators=100,min_child_weight=5, scale_pos_weight=1)\n",
    "# clf = xgboost.XGBClassifier(n_jobs=7, max_depth=3, n_estimators=230)\n",
    "\n",
    "m = None\n",
    "\n",
    "# 如果移动到线上集, 则输出模型\n",
    "if sum(y_test == -1) > 0:\n",
    "    m = clf.fit(X_train, y_train)\n",
    "    result = pd.DataFrame()\n",
    "    result['instance_id'] = test_df['instance_id']\n",
    "    result['predicted_score'] = pd.DataFrame(m.predict_proba(X_test))[1].values\n",
    "    result.to_csv('submits/3_7454_8186_a8258_b8156.csv', sep = ' ', header=True, index = False)\n",
    "else:\n",
    "    # 分离a,b榜\n",
    "    X_val_a, X_val_b, y_val_a, y_val_b = train_test_split(X_test, y_test, test_size=0.7, shuffle=True, random_state=6)\n",
    "    m = clf.fit(X_train, y_train)\n",
    "    \n",
    "    val_a_loss = log_loss(y_val_a, m.predict_proba(X_val_a))\n",
    "    val_b_loss = log_loss(y_val_b, m.predict_proba(X_val_b))\n",
    "    print('(%s -> %s) train logloss: %.5f, test logloss: %.5f, a: %.5f, b: %.5f' % \\\n",
    "          (starts, ends, \\\n",
    "           log_loss(y_train, m.predict_proba(X_train)), \\\n",
    "           log_loss(y_test, m.predict_proba(X_test)),\\\n",
    "          val_a_loss, val_b_loss))\n",
    "    \n",
    "# ([0, 1, 2, 3, 4, 5] -> [6]) train logloss: 0.07454, test logloss: 0.08186, a: 0.08258, b: 0.08156\n"
   ]
  },
  {
   "cell_type": "markdown",
   "metadata": {},
   "source": [
    "# 4 模型分析"
   ]
  },
  {
   "cell_type": "code",
   "execution_count": 9,
   "metadata": {
    "scrolled": true
   },
   "outputs": [
    {
     "name": "stdout",
     "output_type": "stream",
     "text": [
      "0 ([0, 1, 2, 3, 4, 5] -> [6]) train logloss: 0.07454, test logloss: 0.08186, a: 0.08574, b: 0.08020\n",
      "1 ([0, 1, 2, 3, 4, 5] -> [6]) train logloss: 0.07454, test logloss: 0.08186, a: 0.07785, b: 0.08358\n",
      "2 ([0, 1, 2, 3, 4, 5] -> [6]) train logloss: 0.07454, test logloss: 0.08186, a: 0.08519, b: 0.08043\n",
      "3 ([0, 1, 2, 3, 4, 5] -> [6]) train logloss: 0.07454, test logloss: 0.08186, a: 0.08190, b: 0.08185\n",
      "4 ([0, 1, 2, 3, 4, 5] -> [6]) train logloss: 0.07454, test logloss: 0.08186, a: 0.07851, b: 0.08330\n",
      "5 ([0, 1, 2, 3, 4, 5] -> [6]) train logloss: 0.07454, test logloss: 0.08186, a: 0.08534, b: 0.08037\n",
      "6 ([0, 1, 2, 3, 4, 5] -> [6]) train logloss: 0.07454, test logloss: 0.08186, a: 0.08258, b: 0.08156\n",
      "7 ([0, 1, 2, 3, 4, 5] -> [6]) train logloss: 0.07454, test logloss: 0.08186, a: 0.08573, b: 0.08020\n",
      "8 ([0, 1, 2, 3, 4, 5] -> [6]) train logloss: 0.07454, test logloss: 0.08186, a: 0.07886, b: 0.08315\n",
      "9 ([0, 1, 2, 3, 4, 5] -> [6]) train logloss: 0.07454, test logloss: 0.08186, a: 0.08623, b: 0.07999\n",
      "10 ([0, 1, 2, 3, 4, 5] -> [6]) train logloss: 0.07454, test logloss: 0.08186, a: 0.08644, b: 0.07990\n",
      "11 ([0, 1, 2, 3, 4, 5] -> [6]) train logloss: 0.07454, test logloss: 0.08186, a: 0.07832, b: 0.08338\n",
      "12 ([0, 1, 2, 3, 4, 5] -> [6]) train logloss: 0.07454, test logloss: 0.08186, a: 0.07872, b: 0.08321\n",
      "13 ([0, 1, 2, 3, 4, 5] -> [6]) train logloss: 0.07454, test logloss: 0.08186, a: 0.07640, b: 0.08420\n",
      "14 ([0, 1, 2, 3, 4, 5] -> [6]) train logloss: 0.07454, test logloss: 0.08186, a: 0.08578, b: 0.08018\n",
      "15 ([0, 1, 2, 3, 4, 5] -> [6]) train logloss: 0.07454, test logloss: 0.08186, a: 0.07594, b: 0.08440\n",
      "16 ([0, 1, 2, 3, 4, 5] -> [6]) train logloss: 0.07454, test logloss: 0.08186, a: 0.08069, b: 0.08236\n",
      "17 ([0, 1, 2, 3, 4, 5] -> [6]) train logloss: 0.07454, test logloss: 0.08186, a: 0.07875, b: 0.08319\n",
      "18 ([0, 1, 2, 3, 4, 5] -> [6]) train logloss: 0.07454, test logloss: 0.08186, a: 0.08494, b: 0.08054\n",
      "19 ([0, 1, 2, 3, 4, 5] -> [6]) train logloss: 0.07454, test logloss: 0.08186, a: 0.08495, b: 0.08054\n",
      "20 ([0, 1, 2, 3, 4, 5] -> [6]) train logloss: 0.07454, test logloss: 0.08186, a: 0.08521, b: 0.08043\n",
      "21 ([0, 1, 2, 3, 4, 5] -> [6]) train logloss: 0.07454, test logloss: 0.08186, a: 0.08358, b: 0.08112\n",
      "22 ([0, 1, 2, 3, 4, 5] -> [6]) train logloss: 0.07454, test logloss: 0.08186, a: 0.08148, b: 0.08202\n",
      "23 ([0, 1, 2, 3, 4, 5] -> [6]) train logloss: 0.07454, test logloss: 0.08186, a: 0.08137, b: 0.08207\n",
      "24 ([0, 1, 2, 3, 4, 5] -> [6]) train logloss: 0.07454, test logloss: 0.08186, a: 0.08474, b: 0.08063\n",
      "25 ([0, 1, 2, 3, 4, 5] -> [6]) train logloss: 0.07454, test logloss: 0.08186, a: 0.08020, b: 0.08257\n",
      "26 ([0, 1, 2, 3, 4, 5] -> [6]) train logloss: 0.07454, test logloss: 0.08186, a: 0.08334, b: 0.08123\n",
      "27 ([0, 1, 2, 3, 4, 5] -> [6]) train logloss: 0.07454, test logloss: 0.08186, a: 0.08084, b: 0.08230\n",
      "28 ([0, 1, 2, 3, 4, 5] -> [6]) train logloss: 0.07454, test logloss: 0.08186, a: 0.08345, b: 0.08118\n",
      "29 ([0, 1, 2, 3, 4, 5] -> [6]) train logloss: 0.07454, test logloss: 0.08186, a: 0.08483, b: 0.08059\n",
      "30 ([0, 1, 2, 3, 4, 5] -> [6]) train logloss: 0.07454, test logloss: 0.08186, a: 0.08371, b: 0.08107\n",
      "31 ([0, 1, 2, 3, 4, 5] -> [6]) train logloss: 0.07454, test logloss: 0.08186, a: 0.07982, b: 0.08273\n",
      "32 ([0, 1, 2, 3, 4, 5] -> [6]) train logloss: 0.07454, test logloss: 0.08186, a: 0.07851, b: 0.08330\n",
      "33 ([0, 1, 2, 3, 4, 5] -> [6]) train logloss: 0.07454, test logloss: 0.08186, a: 0.08335, b: 0.08122\n",
      "34 ([0, 1, 2, 3, 4, 5] -> [6]) train logloss: 0.07454, test logloss: 0.08186, a: 0.08200, b: 0.08180\n",
      "35 ([0, 1, 2, 3, 4, 5] -> [6]) train logloss: 0.07454, test logloss: 0.08186, a: 0.07600, b: 0.08437\n",
      "36 ([0, 1, 2, 3, 4, 5] -> [6]) train logloss: 0.07454, test logloss: 0.08186, a: 0.07865, b: 0.08324\n",
      "37 ([0, 1, 2, 3, 4, 5] -> [6]) train logloss: 0.07454, test logloss: 0.08186, a: 0.08387, b: 0.08100\n",
      "38 ([0, 1, 2, 3, 4, 5] -> [6]) train logloss: 0.07454, test logloss: 0.08186, a: 0.07797, b: 0.08353\n",
      "39 ([0, 1, 2, 3, 4, 5] -> [6]) train logloss: 0.07454, test logloss: 0.08186, a: 0.08448, b: 0.08074\n",
      "40 ([0, 1, 2, 3, 4, 5] -> [6]) train logloss: 0.07454, test logloss: 0.08186, a: 0.07792, b: 0.08355\n",
      "41 ([0, 1, 2, 3, 4, 5] -> [6]) train logloss: 0.07454, test logloss: 0.08186, a: 0.07909, b: 0.08305\n",
      "42 ([0, 1, 2, 3, 4, 5] -> [6]) train logloss: 0.07454, test logloss: 0.08186, a: 0.08403, b: 0.08093\n",
      "43 ([0, 1, 2, 3, 4, 5] -> [6]) train logloss: 0.07454, test logloss: 0.08186, a: 0.07808, b: 0.08348\n",
      "44 ([0, 1, 2, 3, 4, 5] -> [6]) train logloss: 0.07454, test logloss: 0.08186, a: 0.08397, b: 0.08096\n",
      "45 ([0, 1, 2, 3, 4, 5] -> [6]) train logloss: 0.07454, test logloss: 0.08186, a: 0.08058, b: 0.08241\n",
      "46 ([0, 1, 2, 3, 4, 5] -> [6]) train logloss: 0.07454, test logloss: 0.08186, a: 0.08035, b: 0.08251\n",
      "47 ([0, 1, 2, 3, 4, 5] -> [6]) train logloss: 0.07454, test logloss: 0.08186, a: 0.08191, b: 0.08184\n",
      "48 ([0, 1, 2, 3, 4, 5] -> [6]) train logloss: 0.07454, test logloss: 0.08186, a: 0.07806, b: 0.08349\n",
      "49 ([0, 1, 2, 3, 4, 5] -> [6]) train logloss: 0.07454, test logloss: 0.08186, a: 0.08204, b: 0.08178\n",
      "50 ([0, 1, 2, 3, 4, 5] -> [6]) train logloss: 0.07454, test logloss: 0.08186, a: 0.08255, b: 0.08157\n",
      "51 ([0, 1, 2, 3, 4, 5] -> [6]) train logloss: 0.07454, test logloss: 0.08186, a: 0.08013, b: 0.08260\n",
      "52 ([0, 1, 2, 3, 4, 5] -> [6]) train logloss: 0.07454, test logloss: 0.08186, a: 0.08295, b: 0.08140\n",
      "53 ([0, 1, 2, 3, 4, 5] -> [6]) train logloss: 0.07454, test logloss: 0.08186, a: 0.08286, b: 0.08143\n",
      "54 ([0, 1, 2, 3, 4, 5] -> [6]) train logloss: 0.07454, test logloss: 0.08186, a: 0.08265, b: 0.08152\n",
      "55 ([0, 1, 2, 3, 4, 5] -> [6]) train logloss: 0.07454, test logloss: 0.08186, a: 0.08498, b: 0.08053\n",
      "56 ([0, 1, 2, 3, 4, 5] -> [6]) train logloss: 0.07454, test logloss: 0.08186, a: 0.07891, b: 0.08312\n",
      "57 ([0, 1, 2, 3, 4, 5] -> [6]) train logloss: 0.07454, test logloss: 0.08186, a: 0.08562, b: 0.08025\n",
      "58 ([0, 1, 2, 3, 4, 5] -> [6]) train logloss: 0.07454, test logloss: 0.08186, a: 0.08095, b: 0.08225\n",
      "59 ([0, 1, 2, 3, 4, 5] -> [6]) train logloss: 0.07454, test logloss: 0.08186, a: 0.07903, b: 0.08308\n",
      "60 ([0, 1, 2, 3, 4, 5] -> [6]) train logloss: 0.07454, test logloss: 0.08186, a: 0.08059, b: 0.08241\n",
      "61 ([0, 1, 2, 3, 4, 5] -> [6]) train logloss: 0.07454, test logloss: 0.08186, a: 0.07966, b: 0.08281\n",
      "62 ([0, 1, 2, 3, 4, 5] -> [6]) train logloss: 0.07454, test logloss: 0.08186, a: 0.08207, b: 0.08177\n",
      "63 ([0, 1, 2, 3, 4, 5] -> [6]) train logloss: 0.07454, test logloss: 0.08186, a: 0.08491, b: 0.08055\n",
      "64 ([0, 1, 2, 3, 4, 5] -> [6]) train logloss: 0.07454, test logloss: 0.08186, a: 0.08019, b: 0.08258\n",
      "65 ([0, 1, 2, 3, 4, 5] -> [6]) train logloss: 0.07454, test logloss: 0.08186, a: 0.08378, b: 0.08104\n",
      "66 ([0, 1, 2, 3, 4, 5] -> [6]) train logloss: 0.07454, test logloss: 0.08186, a: 0.07664, b: 0.08410\n",
      "67 ([0, 1, 2, 3, 4, 5] -> [6]) train logloss: 0.07454, test logloss: 0.08186, a: 0.08214, b: 0.08174\n",
      "68 ([0, 1, 2, 3, 4, 5] -> [6]) train logloss: 0.07454, test logloss: 0.08186, a: 0.08377, b: 0.08104\n",
      "69 ([0, 1, 2, 3, 4, 5] -> [6]) train logloss: 0.07454, test logloss: 0.08186, a: 0.08210, b: 0.08176\n",
      "70 ([0, 1, 2, 3, 4, 5] -> [6]) train logloss: 0.07454, test logloss: 0.08186, a: 0.08266, b: 0.08152\n",
      "71 ([0, 1, 2, 3, 4, 5] -> [6]) train logloss: 0.07454, test logloss: 0.08186, a: 0.08247, b: 0.08160\n",
      "72 ([0, 1, 2, 3, 4, 5] -> [6]) train logloss: 0.07454, test logloss: 0.08186, a: 0.08171, b: 0.08192\n",
      "73 ([0, 1, 2, 3, 4, 5] -> [6]) train logloss: 0.07454, test logloss: 0.08186, a: 0.07981, b: 0.08274\n",
      "74 ([0, 1, 2, 3, 4, 5] -> [6]) train logloss: 0.07454, test logloss: 0.08186, a: 0.08425, b: 0.08084\n",
      "75 ([0, 1, 2, 3, 4, 5] -> [6]) train logloss: 0.07454, test logloss: 0.08186, a: 0.08495, b: 0.08054\n",
      "76 ([0, 1, 2, 3, 4, 5] -> [6]) train logloss: 0.07454, test logloss: 0.08186, a: 0.08476, b: 0.08062\n",
      "77 ([0, 1, 2, 3, 4, 5] -> [6]) train logloss: 0.07454, test logloss: 0.08186, a: 0.08198, b: 0.08181\n",
      "78 ([0, 1, 2, 3, 4, 5] -> [6]) train logloss: 0.07454, test logloss: 0.08186, a: 0.07843, b: 0.08333\n",
      "79 ([0, 1, 2, 3, 4, 5] -> [6]) train logloss: 0.07454, test logloss: 0.08186, a: 0.08382, b: 0.08102\n",
      "80 ([0, 1, 2, 3, 4, 5] -> [6]) train logloss: 0.07454, test logloss: 0.08186, a: 0.08013, b: 0.08260\n",
      "81 ([0, 1, 2, 3, 4, 5] -> [6]) train logloss: 0.07454, test logloss: 0.08186, a: 0.08001, b: 0.08266\n"
     ]
    },
    {
     "name": "stdout",
     "output_type": "stream",
     "text": [
      "82 ([0, 1, 2, 3, 4, 5] -> [6]) train logloss: 0.07454, test logloss: 0.08186, a: 0.08162, b: 0.08196\n",
      "83 ([0, 1, 2, 3, 4, 5] -> [6]) train logloss: 0.07454, test logloss: 0.08186, a: 0.08469, b: 0.08065\n",
      "84 ([0, 1, 2, 3, 4, 5] -> [6]) train logloss: 0.07454, test logloss: 0.08186, a: 0.08134, b: 0.08208\n",
      "85 ([0, 1, 2, 3, 4, 5] -> [6]) train logloss: 0.07454, test logloss: 0.08186, a: 0.08122, b: 0.08214\n",
      "86 ([0, 1, 2, 3, 4, 5] -> [6]) train logloss: 0.07454, test logloss: 0.08186, a: 0.07753, b: 0.08372\n",
      "87 ([0, 1, 2, 3, 4, 5] -> [6]) train logloss: 0.07454, test logloss: 0.08186, a: 0.08596, b: 0.08010\n",
      "88 ([0, 1, 2, 3, 4, 5] -> [6]) train logloss: 0.07454, test logloss: 0.08186, a: 0.08473, b: 0.08063\n",
      "89 ([0, 1, 2, 3, 4, 5] -> [6]) train logloss: 0.07454, test logloss: 0.08186, a: 0.07873, b: 0.08320\n",
      "90 ([0, 1, 2, 3, 4, 5] -> [6]) train logloss: 0.07454, test logloss: 0.08186, a: 0.08205, b: 0.08178\n",
      "91 ([0, 1, 2, 3, 4, 5] -> [6]) train logloss: 0.07454, test logloss: 0.08186, a: 0.07799, b: 0.08352\n",
      "92 ([0, 1, 2, 3, 4, 5] -> [6]) train logloss: 0.07454, test logloss: 0.08186, a: 0.07962, b: 0.08282\n",
      "93 ([0, 1, 2, 3, 4, 5] -> [6]) train logloss: 0.07454, test logloss: 0.08186, a: 0.08175, b: 0.08191\n",
      "94 ([0, 1, 2, 3, 4, 5] -> [6]) train logloss: 0.07454, test logloss: 0.08186, a: 0.07985, b: 0.08272\n",
      "95 ([0, 1, 2, 3, 4, 5] -> [6]) train logloss: 0.07454, test logloss: 0.08186, a: 0.08171, b: 0.08193\n",
      "96 ([0, 1, 2, 3, 4, 5] -> [6]) train logloss: 0.07454, test logloss: 0.08186, a: 0.08190, b: 0.08184\n",
      "97 ([0, 1, 2, 3, 4, 5] -> [6]) train logloss: 0.07454, test logloss: 0.08186, a: 0.08253, b: 0.08158\n",
      "98 ([0, 1, 2, 3, 4, 5] -> [6]) train logloss: 0.07454, test logloss: 0.08186, a: 0.08305, b: 0.08135\n",
      "99 ([0, 1, 2, 3, 4, 5] -> [6]) train logloss: 0.07454, test logloss: 0.08186, a: 0.08150, b: 0.08201\n",
      "100 ([0, 1, 2, 3, 4, 5] -> [6]) train logloss: 0.07454, test logloss: 0.08186, a: 0.07620, b: 0.08429\n",
      "101 ([0, 1, 2, 3, 4, 5] -> [6]) train logloss: 0.07454, test logloss: 0.08186, a: 0.08178, b: 0.08190\n",
      "102 ([0, 1, 2, 3, 4, 5] -> [6]) train logloss: 0.07454, test logloss: 0.08186, a: 0.08033, b: 0.08252\n",
      "103 ([0, 1, 2, 3, 4, 5] -> [6]) train logloss: 0.07454, test logloss: 0.08186, a: 0.08085, b: 0.08229\n",
      "104 ([0, 1, 2, 3, 4, 5] -> [6]) train logloss: 0.07454, test logloss: 0.08186, a: 0.08184, b: 0.08187\n",
      "105 ([0, 1, 2, 3, 4, 5] -> [6]) train logloss: 0.07454, test logloss: 0.08186, a: 0.08411, b: 0.08090\n",
      "106 ([0, 1, 2, 3, 4, 5] -> [6]) train logloss: 0.07454, test logloss: 0.08186, a: 0.08375, b: 0.08105\n",
      "107 ([0, 1, 2, 3, 4, 5] -> [6]) train logloss: 0.07454, test logloss: 0.08186, a: 0.08214, b: 0.08174\n",
      "108 ([0, 1, 2, 3, 4, 5] -> [6]) train logloss: 0.07454, test logloss: 0.08186, a: 0.07864, b: 0.08324\n",
      "109 ([0, 1, 2, 3, 4, 5] -> [6]) train logloss: 0.07454, test logloss: 0.08186, a: 0.07827, b: 0.08340\n",
      "110 ([0, 1, 2, 3, 4, 5] -> [6]) train logloss: 0.07454, test logloss: 0.08186, a: 0.08057, b: 0.08241\n",
      "111 ([0, 1, 2, 3, 4, 5] -> [6]) train logloss: 0.07454, test logloss: 0.08186, a: 0.07792, b: 0.08355\n",
      "112 ([0, 1, 2, 3, 4, 5] -> [6]) train logloss: 0.07454, test logloss: 0.08186, a: 0.07680, b: 0.08403\n",
      "113 ([0, 1, 2, 3, 4, 5] -> [6]) train logloss: 0.07454, test logloss: 0.08186, a: 0.07893, b: 0.08312\n",
      "114 ([0, 1, 2, 3, 4, 5] -> [6]) train logloss: 0.07454, test logloss: 0.08186, a: 0.08081, b: 0.08231\n",
      "115 ([0, 1, 2, 3, 4, 5] -> [6]) train logloss: 0.07454, test logloss: 0.08186, a: 0.08298, b: 0.08138\n",
      "116 ([0, 1, 2, 3, 4, 5] -> [6]) train logloss: 0.07454, test logloss: 0.08186, a: 0.08984, b: 0.07844\n",
      "117 ([0, 1, 2, 3, 4, 5] -> [6]) train logloss: 0.07454, test logloss: 0.08186, a: 0.08454, b: 0.08071\n",
      "118 ([0, 1, 2, 3, 4, 5] -> [6]) train logloss: 0.07454, test logloss: 0.08186, a: 0.07846, b: 0.08332\n",
      "119 ([0, 1, 2, 3, 4, 5] -> [6]) train logloss: 0.07454, test logloss: 0.08186, a: 0.08378, b: 0.08104\n",
      "120 ([0, 1, 2, 3, 4, 5] -> [6]) train logloss: 0.07454, test logloss: 0.08186, a: 0.08035, b: 0.08251\n",
      "121 ([0, 1, 2, 3, 4, 5] -> [6]) train logloss: 0.07454, test logloss: 0.08186, a: 0.08180, b: 0.08189\n",
      "122 ([0, 1, 2, 3, 4, 5] -> [6]) train logloss: 0.07454, test logloss: 0.08186, a: 0.07941, b: 0.08291\n",
      "123 ([0, 1, 2, 3, 4, 5] -> [6]) train logloss: 0.07454, test logloss: 0.08186, a: 0.08127, b: 0.08211\n",
      "124 ([0, 1, 2, 3, 4, 5] -> [6]) train logloss: 0.07454, test logloss: 0.08186, a: 0.08289, b: 0.08142\n",
      "125 ([0, 1, 2, 3, 4, 5] -> [6]) train logloss: 0.07454, test logloss: 0.08186, a: 0.08185, b: 0.08186\n",
      "126 ([0, 1, 2, 3, 4, 5] -> [6]) train logloss: 0.07454, test logloss: 0.08186, a: 0.08664, b: 0.07981\n",
      "127 ([0, 1, 2, 3, 4, 5] -> [6]) train logloss: 0.07454, test logloss: 0.08186, a: 0.07888, b: 0.08314\n",
      "128 ([0, 1, 2, 3, 4, 5] -> [6]) train logloss: 0.07454, test logloss: 0.08186, a: 0.07978, b: 0.08275\n",
      "129 ([0, 1, 2, 3, 4, 5] -> [6]) train logloss: 0.07454, test logloss: 0.08186, a: 0.07784, b: 0.08358\n",
      "130 ([0, 1, 2, 3, 4, 5] -> [6]) train logloss: 0.07454, test logloss: 0.08186, a: 0.08048, b: 0.08245\n",
      "131 ([0, 1, 2, 3, 4, 5] -> [6]) train logloss: 0.07454, test logloss: 0.08186, a: 0.08801, b: 0.07922\n",
      "132 ([0, 1, 2, 3, 4, 5] -> [6]) train logloss: 0.07454, test logloss: 0.08186, a: 0.08902, b: 0.07879\n",
      "133 ([0, 1, 2, 3, 4, 5] -> [6]) train logloss: 0.07454, test logloss: 0.08186, a: 0.08789, b: 0.07928\n",
      "134 ([0, 1, 2, 3, 4, 5] -> [6]) train logloss: 0.07454, test logloss: 0.08186, a: 0.08201, b: 0.08180\n",
      "135 ([0, 1, 2, 3, 4, 5] -> [6]) train logloss: 0.07454, test logloss: 0.08186, a: 0.07730, b: 0.08382\n",
      "136 ([0, 1, 2, 3, 4, 5] -> [6]) train logloss: 0.07454, test logloss: 0.08186, a: 0.07874, b: 0.08320\n",
      "137 ([0, 1, 2, 3, 4, 5] -> [6]) train logloss: 0.07454, test logloss: 0.08186, a: 0.07955, b: 0.08285\n",
      "138 ([0, 1, 2, 3, 4, 5] -> [6]) train logloss: 0.07454, test logloss: 0.08186, a: 0.08163, b: 0.08196\n",
      "139 ([0, 1, 2, 3, 4, 5] -> [6]) train logloss: 0.07454, test logloss: 0.08186, a: 0.08447, b: 0.08074\n",
      "140 ([0, 1, 2, 3, 4, 5] -> [6]) train logloss: 0.07454, test logloss: 0.08186, a: 0.08361, b: 0.08111\n",
      "141 ([0, 1, 2, 3, 4, 5] -> [6]) train logloss: 0.07454, test logloss: 0.08186, a: 0.08188, b: 0.08185\n",
      "142 ([0, 1, 2, 3, 4, 5] -> [6]) train logloss: 0.07454, test logloss: 0.08186, a: 0.08129, b: 0.08211\n",
      "143 ([0, 1, 2, 3, 4, 5] -> [6]) train logloss: 0.07454, test logloss: 0.08186, a: 0.08198, b: 0.08181\n",
      "144 ([0, 1, 2, 3, 4, 5] -> [6]) train logloss: 0.07454, test logloss: 0.08186, a: 0.08149, b: 0.08202\n",
      "145 ([0, 1, 2, 3, 4, 5] -> [6]) train logloss: 0.07454, test logloss: 0.08186, a: 0.08806, b: 0.07920\n",
      "146 ([0, 1, 2, 3, 4, 5] -> [6]) train logloss: 0.07454, test logloss: 0.08186, a: 0.07626, b: 0.08426\n",
      "147 ([0, 1, 2, 3, 4, 5] -> [6]) train logloss: 0.07454, test logloss: 0.08186, a: 0.07919, b: 0.08300\n",
      "148 ([0, 1, 2, 3, 4, 5] -> [6]) train logloss: 0.07454, test logloss: 0.08186, a: 0.08152, b: 0.08201\n",
      "149 ([0, 1, 2, 3, 4, 5] -> [6]) train logloss: 0.07454, test logloss: 0.08186, a: 0.08324, b: 0.08127\n",
      "150 ([0, 1, 2, 3, 4, 5] -> [6]) train logloss: 0.07454, test logloss: 0.08186, a: 0.08548, b: 0.08031\n",
      "151 ([0, 1, 2, 3, 4, 5] -> [6]) train logloss: 0.07454, test logloss: 0.08186, a: 0.08291, b: 0.08141\n",
      "152 ([0, 1, 2, 3, 4, 5] -> [6]) train logloss: 0.07454, test logloss: 0.08186, a: 0.08709, b: 0.07962\n",
      "153 ([0, 1, 2, 3, 4, 5] -> [6]) train logloss: 0.07454, test logloss: 0.08186, a: 0.08038, b: 0.08250\n",
      "154 ([0, 1, 2, 3, 4, 5] -> [6]) train logloss: 0.07454, test logloss: 0.08186, a: 0.07759, b: 0.08369\n",
      "155 ([0, 1, 2, 3, 4, 5] -> [6]) train logloss: 0.07454, test logloss: 0.08186, a: 0.08036, b: 0.08250\n",
      "156 ([0, 1, 2, 3, 4, 5] -> [6]) train logloss: 0.07454, test logloss: 0.08186, a: 0.08091, b: 0.08227\n",
      "157 ([0, 1, 2, 3, 4, 5] -> [6]) train logloss: 0.07454, test logloss: 0.08186, a: 0.08803, b: 0.07922\n",
      "158 ([0, 1, 2, 3, 4, 5] -> [6]) train logloss: 0.07454, test logloss: 0.08186, a: 0.08665, b: 0.07981\n",
      "159 ([0, 1, 2, 3, 4, 5] -> [6]) train logloss: 0.07454, test logloss: 0.08186, a: 0.08179, b: 0.08189\n",
      "160 ([0, 1, 2, 3, 4, 5] -> [6]) train logloss: 0.07454, test logloss: 0.08186, a: 0.08147, b: 0.08203\n",
      "161 ([0, 1, 2, 3, 4, 5] -> [6]) train logloss: 0.07454, test logloss: 0.08186, a: 0.08483, b: 0.08059\n",
      "162 ([0, 1, 2, 3, 4, 5] -> [6]) train logloss: 0.07454, test logloss: 0.08186, a: 0.08441, b: 0.08077\n"
     ]
    },
    {
     "name": "stdout",
     "output_type": "stream",
     "text": [
      "163 ([0, 1, 2, 3, 4, 5] -> [6]) train logloss: 0.07454, test logloss: 0.08186, a: 0.07639, b: 0.08420\n",
      "164 ([0, 1, 2, 3, 4, 5] -> [6]) train logloss: 0.07454, test logloss: 0.08186, a: 0.08524, b: 0.08041\n",
      "165 ([0, 1, 2, 3, 4, 5] -> [6]) train logloss: 0.07454, test logloss: 0.08186, a: 0.08152, b: 0.08201\n",
      "166 ([0, 1, 2, 3, 4, 5] -> [6]) train logloss: 0.07454, test logloss: 0.08186, a: 0.08010, b: 0.08262\n",
      "167 ([0, 1, 2, 3, 4, 5] -> [6]) train logloss: 0.07454, test logloss: 0.08186, a: 0.08315, b: 0.08131\n",
      "168 ([0, 1, 2, 3, 4, 5] -> [6]) train logloss: 0.07454, test logloss: 0.08186, a: 0.08268, b: 0.08151\n",
      "169 ([0, 1, 2, 3, 4, 5] -> [6]) train logloss: 0.07454, test logloss: 0.08186, a: 0.08214, b: 0.08174\n",
      "170 ([0, 1, 2, 3, 4, 5] -> [6]) train logloss: 0.07454, test logloss: 0.08186, a: 0.08051, b: 0.08244\n",
      "171 ([0, 1, 2, 3, 4, 5] -> [6]) train logloss: 0.07454, test logloss: 0.08186, a: 0.08427, b: 0.08083\n",
      "172 ([0, 1, 2, 3, 4, 5] -> [6]) train logloss: 0.07454, test logloss: 0.08186, a: 0.08395, b: 0.08097\n",
      "173 ([0, 1, 2, 3, 4, 5] -> [6]) train logloss: 0.07454, test logloss: 0.08186, a: 0.08563, b: 0.08025\n",
      "174 ([0, 1, 2, 3, 4, 5] -> [6]) train logloss: 0.07454, test logloss: 0.08186, a: 0.08318, b: 0.08130\n",
      "175 ([0, 1, 2, 3, 4, 5] -> [6]) train logloss: 0.07454, test logloss: 0.08186, a: 0.08679, b: 0.07975\n",
      "176 ([0, 1, 2, 3, 4, 5] -> [6]) train logloss: 0.07454, test logloss: 0.08186, a: 0.07807, b: 0.08349\n",
      "177 ([0, 1, 2, 3, 4, 5] -> [6]) train logloss: 0.07454, test logloss: 0.08186, a: 0.08398, b: 0.08095\n",
      "178 ([0, 1, 2, 3, 4, 5] -> [6]) train logloss: 0.07454, test logloss: 0.08186, a: 0.07998, b: 0.08267\n",
      "179 ([0, 1, 2, 3, 4, 5] -> [6]) train logloss: 0.07454, test logloss: 0.08186, a: 0.08146, b: 0.08203\n",
      "180 ([0, 1, 2, 3, 4, 5] -> [6]) train logloss: 0.07454, test logloss: 0.08186, a: 0.08278, b: 0.08147\n",
      "181 ([0, 1, 2, 3, 4, 5] -> [6]) train logloss: 0.07454, test logloss: 0.08186, a: 0.08388, b: 0.08099\n",
      "182 ([0, 1, 2, 3, 4, 5] -> [6]) train logloss: 0.07454, test logloss: 0.08186, a: 0.08386, b: 0.08100\n",
      "183 ([0, 1, 2, 3, 4, 5] -> [6]) train logloss: 0.07454, test logloss: 0.08186, a: 0.08068, b: 0.08237\n",
      "184 ([0, 1, 2, 3, 4, 5] -> [6]) train logloss: 0.07454, test logloss: 0.08186, a: 0.08383, b: 0.08102\n"
     ]
    },
    {
     "ename": "KeyboardInterrupt",
     "evalue": "",
     "output_type": "error",
     "traceback": [
      "\u001b[1;31m---------------------------------------------------------------------------\u001b[0m",
      "\u001b[1;31mKeyboardInterrupt\u001b[0m                         Traceback (most recent call last)",
      "\u001b[1;32m<ipython-input-9-94edcf3e2cea>\u001b[0m in \u001b[0;36m<module>\u001b[1;34m()\u001b[0m\n\u001b[0;32m      5\u001b[0m     \u001b[0mval_a_loss\u001b[0m \u001b[1;33m=\u001b[0m \u001b[0mlog_loss\u001b[0m\u001b[1;33m(\u001b[0m\u001b[0my_val_a\u001b[0m\u001b[1;33m,\u001b[0m \u001b[0mm\u001b[0m\u001b[1;33m.\u001b[0m\u001b[0mpredict_proba\u001b[0m\u001b[1;33m(\u001b[0m\u001b[0mX_val_a\u001b[0m\u001b[1;33m)\u001b[0m\u001b[1;33m)\u001b[0m\u001b[1;33m\u001b[0m\u001b[0m\n\u001b[0;32m      6\u001b[0m     \u001b[0mval_b_loss\u001b[0m \u001b[1;33m=\u001b[0m \u001b[0mlog_loss\u001b[0m\u001b[1;33m(\u001b[0m\u001b[0my_val_b\u001b[0m\u001b[1;33m,\u001b[0m \u001b[0mm\u001b[0m\u001b[1;33m.\u001b[0m\u001b[0mpredict_proba\u001b[0m\u001b[1;33m(\u001b[0m\u001b[0mX_val_b\u001b[0m\u001b[1;33m)\u001b[0m\u001b[1;33m)\u001b[0m\u001b[1;33m\u001b[0m\u001b[0m\n\u001b[1;32m----> 7\u001b[1;33m     \u001b[0mprint\u001b[0m\u001b[1;33m(\u001b[0m\u001b[1;34m'%d (%s -> %s) train logloss: %.5f, test logloss: %.5f, a: %.5f, b: %.5f'\u001b[0m \u001b[1;33m%\u001b[0m           \u001b[1;33m(\u001b[0m\u001b[0mi\u001b[0m\u001b[1;33m,\u001b[0m \u001b[0mstarts\u001b[0m\u001b[1;33m,\u001b[0m \u001b[0mends\u001b[0m\u001b[1;33m,\u001b[0m            \u001b[0mlog_loss\u001b[0m\u001b[1;33m(\u001b[0m\u001b[0my_train\u001b[0m\u001b[1;33m,\u001b[0m \u001b[0mm\u001b[0m\u001b[1;33m.\u001b[0m\u001b[0mpredict_proba\u001b[0m\u001b[1;33m(\u001b[0m\u001b[0mX_train\u001b[0m\u001b[1;33m)\u001b[0m\u001b[1;33m)\u001b[0m\u001b[1;33m,\u001b[0m            \u001b[0mlog_loss\u001b[0m\u001b[1;33m(\u001b[0m\u001b[0my_test\u001b[0m\u001b[1;33m,\u001b[0m \u001b[0mm\u001b[0m\u001b[1;33m.\u001b[0m\u001b[0mpredict_proba\u001b[0m\u001b[1;33m(\u001b[0m\u001b[0mX_test\u001b[0m\u001b[1;33m)\u001b[0m\u001b[1;33m)\u001b[0m\u001b[1;33m,\u001b[0m          \u001b[0mval_a_loss\u001b[0m\u001b[1;33m,\u001b[0m \u001b[0mval_b_loss\u001b[0m\u001b[1;33m)\u001b[0m\u001b[1;33m)\u001b[0m\u001b[1;33m\u001b[0m\u001b[0m\n\u001b[0m",
      "\u001b[1;32mC:\\Anaconda3\\lib\\site-packages\\xgboost-0.7-py3.6.egg\\xgboost\\sklearn.py\u001b[0m in \u001b[0;36mpredict_proba\u001b[1;34m(self, data, output_margin, ntree_limit)\u001b[0m\n\u001b[0;32m    579\u001b[0m             \u001b[0mclassone_probs\u001b[0m \u001b[1;33m=\u001b[0m \u001b[0mclass_probs\u001b[0m\u001b[1;33m\u001b[0m\u001b[0m\n\u001b[0;32m    580\u001b[0m             \u001b[0mclasszero_probs\u001b[0m \u001b[1;33m=\u001b[0m \u001b[1;36m1.0\u001b[0m \u001b[1;33m-\u001b[0m \u001b[0mclassone_probs\u001b[0m\u001b[1;33m\u001b[0m\u001b[0m\n\u001b[1;32m--> 581\u001b[1;33m             \u001b[1;32mreturn\u001b[0m \u001b[0mnp\u001b[0m\u001b[1;33m.\u001b[0m\u001b[0mvstack\u001b[0m\u001b[1;33m(\u001b[0m\u001b[1;33m(\u001b[0m\u001b[0mclasszero_probs\u001b[0m\u001b[1;33m,\u001b[0m \u001b[0mclassone_probs\u001b[0m\u001b[1;33m)\u001b[0m\u001b[1;33m)\u001b[0m\u001b[1;33m.\u001b[0m\u001b[0mtranspose\u001b[0m\u001b[1;33m(\u001b[0m\u001b[1;33m)\u001b[0m\u001b[1;33m\u001b[0m\u001b[0m\n\u001b[0m\u001b[0;32m    582\u001b[0m \u001b[1;33m\u001b[0m\u001b[0m\n\u001b[0;32m    583\u001b[0m     \u001b[1;32mdef\u001b[0m \u001b[0mevals_result\u001b[0m\u001b[1;33m(\u001b[0m\u001b[0mself\u001b[0m\u001b[1;33m)\u001b[0m\u001b[1;33m:\u001b[0m\u001b[1;33m\u001b[0m\u001b[0m\n",
      "\u001b[1;32mC:\\Anaconda3\\lib\\site-packages\\numpy\\core\\shape_base.py\u001b[0m in \u001b[0;36mvstack\u001b[1;34m(tup)\u001b[0m\n\u001b[0;32m    232\u001b[0m \u001b[1;33m\u001b[0m\u001b[0m\n\u001b[0;32m    233\u001b[0m     \"\"\"\n\u001b[1;32m--> 234\u001b[1;33m     \u001b[1;32mreturn\u001b[0m \u001b[0m_nx\u001b[0m\u001b[1;33m.\u001b[0m\u001b[0mconcatenate\u001b[0m\u001b[1;33m(\u001b[0m\u001b[1;33m[\u001b[0m\u001b[0matleast_2d\u001b[0m\u001b[1;33m(\u001b[0m\u001b[0m_m\u001b[0m\u001b[1;33m)\u001b[0m \u001b[1;32mfor\u001b[0m \u001b[0m_m\u001b[0m \u001b[1;32min\u001b[0m \u001b[0mtup\u001b[0m\u001b[1;33m]\u001b[0m\u001b[1;33m,\u001b[0m \u001b[1;36m0\u001b[0m\u001b[1;33m)\u001b[0m\u001b[1;33m\u001b[0m\u001b[0m\n\u001b[0m\u001b[0;32m    235\u001b[0m \u001b[1;33m\u001b[0m\u001b[0m\n\u001b[0;32m    236\u001b[0m \u001b[1;32mdef\u001b[0m \u001b[0mhstack\u001b[0m\u001b[1;33m(\u001b[0m\u001b[0mtup\u001b[0m\u001b[1;33m)\u001b[0m\u001b[1;33m:\u001b[0m\u001b[1;33m\u001b[0m\u001b[0m\n",
      "\u001b[1;31mKeyboardInterrupt\u001b[0m: "
     ]
    }
   ],
   "source": [
    "for i in range(1000):\n",
    "    # 分离a,b榜\n",
    "    X_val_a, X_val_b, y_val_a, y_val_b = train_test_split(X_test, y_test, test_size=0.7, shuffle=True, random_state=i)\n",
    "    \n",
    "    val_a_loss = log_loss(y_val_a, m.predict_proba(X_val_a))\n",
    "    val_b_loss = log_loss(y_val_b, m.predict_proba(X_val_b))\n",
    "    print('%d (%s -> %s) train logloss: %.5f, test logloss: %.5f, a: %.5f, b: %.5f' % \\\n",
    "          (i, starts, ends, \\\n",
    "           log_loss(y_train, m.predict_proba(X_train)), \\\n",
    "           log_loss(y_test, m.predict_proba(X_test)),\\\n",
    "          val_a_loss, val_b_loss))"
   ]
  },
  {
   "cell_type": "code",
   "execution_count": 59,
   "metadata": {},
   "outputs": [],
   "source": [
    "# print(X_val_a.shape, y_val_a.shape, X_val_b.shape, y_val_b.shape)\n",
    "\n",
    "# rand_states = []\n",
    "# bias = 0.0\n",
    "# for i in range(0, 3000):\n",
    "#     X_val_a, X_val_b, y_val_a, y_val_b = train_test_split(X_test, y_test, test_size=0.7, shuffle=True, random_state=i)\n",
    "#     # train_loss = log_loss(y_train, m.predict_proba(X_train))\n",
    "    \n",
    "#     val_a_loss = log_loss(y_val_a, m.predict_proba(X_val_a))\n",
    "#     val_b_loss = log_loss(y_val_b, m.predict_proba(X_val_b))\n",
    "#     bias = bias + val_a_loss - val_b_loss\n",
    "#     if val_a_loss > 0.089:\n",
    "#         rand_states.append(i)\n",
    "    \n",
    "#     print('第 %s 次: A: %.5f, B: %.5f, A_B_mean: %.5f, bias: %.5f' % \\\n",
    "#           ( i, val_a_loss, val_b_loss, (val_a_loss*0.3+val_b_loss*0.7), bias))\n",
    "    \n",
    "# test_loss = log_loss(y_test, m.predict_proba(X_test))\n",
    "# print('test logloss: %.5f, 总的bias: %s' % (test_loss, bias))\n",
    "# print(rand_states)"
   ]
  }
 ],
 "metadata": {
  "kernelspec": {
   "display_name": "Python 3",
   "language": "python",
   "name": "python3"
  },
  "language_info": {
   "codemirror_mode": {
    "name": "ipython",
    "version": 3
   },
   "file_extension": ".py",
   "mimetype": "text/x-python",
   "name": "python",
   "nbconvert_exporter": "python",
   "pygments_lexer": "ipython3",
   "version": "3.6.4"
  }
 },
 "nbformat": 4,
 "nbformat_minor": 2
}
