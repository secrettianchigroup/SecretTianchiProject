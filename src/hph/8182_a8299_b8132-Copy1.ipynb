{
 "cells": [
  {
   "cell_type": "markdown",
   "metadata": {},
   "source": [
    "# 0 思路\n",
    "\n",
    "\n",
    "*组合规律*\n",
    "1. 各个id的衍生特征是否相对独立, 不会互斥, 是的\n",
    "2. 衍生特征的正负向是否kfold表现一致, 是的\n",
    "3. \n",
    "\n",
    "\n",
    "\n",
    "*交易相关*\n",
    "1. 每个特征的的交易量, 交易率\n",
    "2. item_brand_id分类及销量排名\n",
    "3. 交易频次\n",
    "4. 交易时段 (类目定义)\n",
    "\n",
    "*包含关系*\n",
    "1. shop_id包含item_id个数\n",
    "\n",
    "*交易率平滑修正*\n",
    "1. 弄清楚平滑的正负向对于各个id的交易率是否不一致\n",
    "2. 弄清楚平滑的正负向是否kfold表现一致\n",
    "3. 弄清楚每个id的正向平滑\n",
    "\t\t\t\t\t\t\t\t\t\t"
   ]
  },
  {
   "cell_type": "code",
   "execution_count": 4,
   "metadata": {
    "collapsed": true
   },
   "outputs": [],
   "source": [
    "import sys\n",
    "sys.path.append(\"..\")\n",
    "import pandas as pd\n",
    "\n",
    "train_df = pd.read_table('../../round1_ijcai_18_train_20180301.txt',sep=' ')\n",
    "test_df = pd.read_table('../../round1_ijcai_18_test_a_20180301.txt',sep=' ')\n",
    "\n",
    "# 线下线上数据统一进行特征处理\n",
    "test_df['is_trade'] = -1\n",
    "total_df = pd.concat([train_df, test_df], axis=0, ignore_index=True)"
   ]
  },
  {
   "cell_type": "markdown",
   "metadata": {},
   "source": [
    "# 1 先处理时序数据"
   ]
  },
  {
   "cell_type": "code",
   "execution_count": 5,
   "metadata": {
    "collapsed": true
   },
   "outputs": [],
   "source": [
    "# 时间处理: 分离天, 星期几, 上中下午/晚上, 小时数\n",
    "# date最终不使用，直接用day(第 0 - 7 天)\n",
    "\n",
    "from sklearn import preprocessing\n",
    "from datetime import datetime\n",
    "le = preprocessing.LabelEncoder()\n",
    "\n",
    "def extract_date(x):\n",
    "    d = datetime.fromtimestamp(x)\n",
    "    return d.strftime('%Y-%m-%d')\n",
    "def extract_weekday(x):\n",
    "    d = datetime.fromtimestamp(x)\n",
    "    return d.weekday()\n",
    "def extract_hour(x):\n",
    "    d = datetime.fromtimestamp(x)\n",
    "    return d.hour\n",
    "\n",
    "total_df['date'] = total_df['context_timestamp'].apply(lambda x: extract_date(x))\n",
    "total_df['day'] = le.fit_transform(total_df['date'])\n",
    "total_df['weekday'] = total_df['context_timestamp'].apply(lambda x: extract_weekday(x))\n",
    "total_df['hour'] = total_df['context_timestamp'].apply(lambda x: extract_hour(x))"
   ]
  },
  {
   "cell_type": "code",
   "execution_count": 6,
   "metadata": {
    "collapsed": true
   },
   "outputs": [],
   "source": [
    "import seaborn as sns\n",
    "import matplotlib.pyplot as plt\n",
    "%matplotlib inline"
   ]
  },
  {
   "cell_type": "markdown",
   "metadata": {},
   "source": [
    "# 2 先分离训练集, 测试集, 线上集\n",
    "\n",
    "*kfold各个交易率特征正负向实验*\n",
    "\n",
    "> baseline          \n",
    "> 6:0.08318 5:0.08476 4:0.09031 3:0.09247 2:0.09309 1:0.10003\n",
    "\n",
    "> 去掉 shop_id 交易率                 \n",
    "> 6:0.08386 5:0.08525 4:0.09045 3:0.09249 2:0.09282 1:0.09423\n",
    "\n",
    "> 去掉user_gender_id 交易率           \n",
    "> 6:0.08386 5:0.08526 4:0.09045 3:0.09249\n",
    "\n",
    "> 去掉item_sales_level 交易率          \n",
    "> 6:0.08393 5:0.08529 4:0.09047 3:0.09259\n"
   ]
  },
  {
   "cell_type": "code",
   "execution_count": 41,
   "metadata": {
    "collapsed": true
   },
   "outputs": [],
   "source": [
    "# 保存原始数据\n",
    "import numpy as np\n",
    "tmp_df = total_df.copy()"
   ]
  },
  {
   "cell_type": "code",
   "execution_count": 42,
   "metadata": {
    "scrolled": true
   },
   "outputs": [
    {
     "name": "stdout",
     "output_type": "stream",
     "text": [
      "(420717,) (57421,)\n"
     ]
    }
   ],
   "source": [
    "# 获取训练测试的索引, 6全集数据验证, 7为生成上线文件\n",
    "test_day= 6\n",
    "starts = list(range(0,test_day))\n",
    "ends = [test_day]\n",
    "train_indices = tmp_df[tmp_df['day'].isin(starts)].index.values\n",
    "test_indices = tmp_df[tmp_df['day'].isin(ends)].index.values\n",
    "print(train_indices.shape, test_indices.shape)\n",
    "\n",
    "# 把测试索引的label提取\n",
    "y_test = tmp_df.iloc[test_indices]['is_trade']\n",
    "\n",
    "# 把需要训练和测试的数据提取, 并且强制去掉测试集的label列\n",
    "tmp_df.loc[test_indices, 'is_trade'] = np.nan\n",
    "\n",
    "# 得出训练测试必须的数据集 ,并且添加一列data_set作为标记\n",
    "train_tmp = tmp_df.iloc[train_indices].copy()\n",
    "train_tmp['data_set'] = 'training'\n",
    "test_tmp = tmp_df.iloc[test_indices].copy()\n",
    "test_tmp['data_set'] = 'testing'\n",
    "raw_df = train_tmp.append(test_tmp)\n"
   ]
  },
  {
   "cell_type": "markdown",
   "metadata": {},
   "source": [
    "### 重复信息特征\n",
    "\n",
    "*正向特征*\n",
    "\n",
    "> item_id : 0.09038    \n",
    "> +shop_id : 0.09033   \n",
    "> +user_id : 0.09031        \n"
   ]
  },
  {
   "cell_type": "code",
   "execution_count": 43,
   "metadata": {},
   "outputs": [
    {
     "name": "stdout",
     "output_type": "stream",
     "text": [
      "(478138, 60)\n"
     ]
    }
   ],
   "source": [
    "%run ../util/time_utils.py\n",
    "dup_feat = ['item_id', 'shop_id', 'user_id', 'item_sales_level'] # , ''\n",
    "raw_df = generateColDupByDay(raw_df, dup_feat, list(range(1, 8)), verbose=False)\n",
    "print(raw_df.shape)"
   ]
  },
  {
   "cell_type": "markdown",
   "metadata": {},
   "source": [
    "### 平滑效果分析\n",
    "\n",
    "*比较方法: 单特征, 多特征比较*\n",
    "\n",
    "1. 单一特征不平滑可能更好, 但是多特征平滑更好\n",
    "2. 外部平滑与内部平滑效果一致\n",
    "3. 每个特征都有最佳的平滑参数?\n",
    "4. 平滑参数与特征的什么有关系?\n",
    "\n",
    "\n",
    "\n",
    "#### item_city_id单特征实验记录 \n",
    "\n",
    "> 所有day使用相同平滑\n",
    "\n",
    "> no -> 0.08276\n",
    "\n",
    "> 内部平滑 -> 0.08280\n",
    "\n",
    "> 10*mean0, 10 -> 0.08279  \n",
    "\n",
    "> 20*mean0, 20 -> 0.08277\n",
    "\n",
    "> 30*mean0, 30 -> 0.08278\n",
    "\n",
    "#### 多特征平滑优化\n",
    "\n",
    "> (10\\*mean0,10,loss:0.08209) -> (15\\*mean0, 15,loss:0.08204)\n",
    "\n",
    "\n",
    "#### 总体效果, 是否平滑, 使用外部还是内部平滑\n",
    "\n",
    "> 使用外部平滑, 总体效果0.08201\n",
    "\n",
    "> 使用内部平滑, 总体效果"
   ]
  },
  {
   "cell_type": "code",
   "execution_count": 44,
   "metadata": {},
   "outputs": [
    {
     "name": "stdout",
     "output_type": "stream",
     "text": [
      "0.2870100328724534 , 15\n"
     ]
    }
   ],
   "source": [
    "# %run ../util/bayesian_smoothing.py\n",
    "# %run ../util/trade_info.py\n",
    "\n",
    "\n",
    "total_days = 8\n",
    "tmp = raw_df.copy()\n",
    "d1 = np.logical_and(tmp.day.values <= max(test_day - 1, 0), tmp.day.values > (test_day - 7))\n",
    "mean0 = raw_df.loc[d1, 'is_trade'].mean()\n",
    "# d2 = (tmp.day.values == full_day)\n",
    "# r = calcTVTransform(tmp, 'item_city_id', 'is_trade', d1, d2, smoothing=10)\n",
    "# # print(\"column %s trade_rate cal_day %s set to day %s\" % (k, tmp[d1][\"day\"].unique(), full_day))\n",
    "# smoothing = bs.BayesianSmoothing(1, 1)\n",
    "# # smoothing.update_from_data_by_moment(r['cnt']+0.000001, r['sum'])\n",
    "# smoothing.update_from_data_by_FPI(r['cnt']+0.000001, r['sum'], 200, 0.00001)\n",
    "# print(smoothing.alpha, smoothing.beta)\n",
    "print(15*mean0, ',', 15)\n",
    "# # 100, 0,00001 -> 0.401764367583 4.624509808\n",
    "# # "
   ]
  },
  {
   "cell_type": "markdown",
   "metadata": {},
   "source": [
    "### 交易率特征选择\n",
    "\n",
    "*固定smooth为10*\n",
    "\n",
    "##### 正向特征\n",
    "\n",
    "> item_city_id, shop_id, user_gender_id, item_sales_level, item_collected_level, shop_review_num_level\n",
    "\n",
    "##### 负向特征\n",
    "\n",
    "> item_price_level,\n",
    "item_id,item_brand_id,item_pv_level,user_age_level,\n",
    "user_occupation_id,user_star_level,context_page_id,\n",
    "shop_review_positive_rate,shop_star_level,\n",
    "shop_score_service,shop_score_description,day,hour\n"
   ]
  },
  {
   "cell_type": "code",
   "execution_count": 45,
   "metadata": {
    "scrolled": true
   },
   "outputs": [
    {
     "name": "stdout",
     "output_type": "stream",
     "text": [
      "(478138, 71)\n"
     ]
    }
   ],
   "source": [
    "# 计算前一天的交易率set到下一天，第0天用回自己\n",
    "%run ../util/trade_info.py\n",
    "\n",
    "trade_rela = ['shop_id', 'item_sales_level', 'item_city_id', 'item_collected_level', 'shop_review_num_level']\n",
    "# trade_rela = ['item_city_id', 'item_id', 'item_brand_id', 'shop_id', 'user_id']\n",
    "\n",
    "colSm = {}\n",
    "for col in trade_rela:\n",
    "    colSm[col] = [15*(mean0) , 15]\n",
    "generateTradeRateByDate(raw_df, trade_rela, 7, None, verbose=False)\n",
    "print(raw_df.shape)\n",
    "# setTradeRateByDate(raw_df, ['item_city_id'], None)"
   ]
  },
  {
   "cell_type": "markdown",
   "metadata": {},
   "source": [
    "\n",
    "### 复合类型处理\n",
    "复合型:里面的举例是方便理解，切勿被误导\t\t\t\t\t\t\t\t\t\t\t\t\t\t\n",
    "predict_category_property\t78796\t用户输入搜索关键字之后，预测用户想要的类别（召回预测！），例如输入 好看的西装，会召回一堆东西（其中举个栗子就是 西装:款式好看，cate:prop，成对出现），我觉得这个是关键，类似用户喜好和用户画像之类的用法\t\t\t\t\t\t\t\t\t\t\t\t\n",
    "item_category_list\t14\t商品的类型，例如 汽车配件 服装 生活用品，一个物品之后一个类别，类别间有从属关系，例如 服装->西装；服装->运动服\t\t\t\t\t\t\t\t\t\t\t\t\n",
    "item_property_list\t10908\t商品的属性，例如 描述服装的 耐用 质料不错 款式好看，注意：不同类别可能会有同一个prop，例如 西装和运动服都可以拥有款式好看之类的prop\t\t"
   ]
  },
  {
   "cell_type": "code",
   "execution_count": 46,
   "metadata": {},
   "outputs": [
    {
     "data": {
      "text/plain": [
       "1.4142135623730951"
      ]
     },
     "execution_count": 46,
     "metadata": {},
     "output_type": "execute_result"
    }
   ],
   "source": [
    "np.sqrt(2)"
   ]
  },
  {
   "cell_type": "code",
   "execution_count": 47,
   "metadata": {},
   "outputs": [
    {
     "name": "stdout",
     "output_type": "stream",
     "text": [
      "get_icl_map ... \n",
      "get_ipl_map ... \n",
      "processing predict_category_property ...\n",
      "processing item_property_list ...\n",
      "processing item_category_list ...\n",
      "generating item_category_1, item_category_2 ...\n",
      "(478138, 75)\n"
     ]
    }
   ],
   "source": [
    "%run ../util/complex_type.py\n",
    "\n",
    "m1 = get_icl_map(raw_df)\n",
    "m2 = get_ipl_map(raw_df)\n",
    "process_complex_types(raw_df, m1, m2)\n",
    "print(raw_df.shape)"
   ]
  },
  {
   "cell_type": "markdown",
   "metadata": {},
   "source": [
    "# 3 生成矩阵数据"
   ]
  },
  {
   "cell_type": "code",
   "execution_count": 51,
   "metadata": {},
   "outputs": [
    {
     "name": "stdout",
     "output_type": "stream",
     "text": [
      "(420717, 1) (420717, 64) (420717,) (57421, 64) (57421,)\n"
     ]
    }
   ],
   "source": [
    "train_df = raw_df[raw_df['data_set'] == 'training']\n",
    "test_df = raw_df[raw_df['data_set'] == 'testing']\n",
    "\n",
    "non_feat_columns = ['data_set', 'context_timestamp', 'instance_id', 'is_trade', 'context_id',\n",
    "                    'item_property_list', 'item_category_list', 'date', 'predict_category_property',\n",
    "                    'item_category_1', 'item_category_2'\n",
    "                   ]\n",
    "\n",
    "D = train_df[['date']]\n",
    "X_train = train_df.drop(non_feat_columns, axis=1)\n",
    "y_train = train_df[['is_trade']].values.ravel()\n",
    "X_test = test_df.drop(non_feat_columns, axis=1)\n",
    "# y_test never shown in training data, and is already exists\n",
    "\n",
    "# X_online = test_df.drop(non_feat_columns, axis=1).values\n",
    "print(D.shape, X_train.shape, y_train.shape, X_test.shape, y_test.shape)"
   ]
  },
  {
   "cell_type": "code",
   "execution_count": 53,
   "metadata": {},
   "outputs": [
    {
     "name": "stdout",
     "output_type": "stream",
     "text": [
      "XGBClassifier(base_score=0.5, booster='gbtree', colsample_bylevel=1,\n",
      "       colsample_bytree=1, gamma=0, learning_rate=0.1, max_delta_step=0,\n",
      "       max_depth=3, min_child_weight=1, missing=None, n_estimators=280,\n",
      "       n_jobs=7, nthread=None, objective='binary:logistic', random_state=0,\n",
      "       reg_alpha=0, reg_lambda=1, scale_pos_weight=1, seed=None,\n",
      "       silent=True, subsample=1)\n",
      "([0, 1, 2, 3, 4, 5] -> [6]) train logloss: 0.08636, test logloss: 0.08193, a: 0.08303, b: 0.08146\n",
      "70.76772689819336\n"
     ]
    }
   ],
   "source": [
    "# 训练模型\n",
    "from sklearn.metrics import log_loss\n",
    "from sklearn.model_selection import train_test_split\n",
    "import xgboost\n",
    "import lightgbm as lgb\n",
    "import time\n",
    "\n",
    "%run ../util/time_series_split.py\n",
    "\n",
    "\n",
    "start = time.time()\n",
    "# clf = lgb.LGBMClassifier(n_jobs=7)\n",
    "# clf = xgboost.XGBClassifier(n_jobs=7, max_depth=3, n_estimators=50)\n",
    "clf = xgboost.XGBClassifier(n_jobs=7, max_depth=3, n_estimators=280)\n",
    "# clf = xgboost.XGBClassifier(n_jobs=7,max_depth=5,n_estimators=100,min_child_weight=5, scale_pos_weight=1)\n",
    "\n",
    "m = None\n",
    "\n",
    "# 如果移动到线上集, 则输出模型\n",
    "if sum(y_test == -1) > 0:\n",
    "    m = clf.fit(X_train, y_train)\n",
    "    result = pd.DataFrame()\n",
    "    result['instance_id'] = test_df['instance_id']\n",
    "    result['predicted_score'] = pd.DataFrame(m.predict_proba(X_test))[1].values\n",
    "    result.to_csv('8182_a8299_b8132-Copy1.csv', sep = ' ', header=True, index = False)\n",
    "else:\n",
    "    # 分离a,b榜\n",
    "    X_val_a, X_val_b, y_val_a, y_val_b = train_test_split(X_test, y_test, test_size=0.7, shuffle=True, random_state=6)\n",
    "    m = clf.fit(X_train, y_train)\n",
    "    \n",
    "    val_a_loss = log_loss(y_val_a, m.predict_proba(X_val_a))\n",
    "    val_b_loss = log_loss(y_val_b, m.predict_proba(X_val_b))\n",
    "    print(clf)\n",
    "    print('(%s -> %s) train logloss: %.5f, test logloss: %.5f, a: %.5f, b: %.5f' % \\\n",
    "          (starts, ends, \\\n",
    "           log_loss(y_train, m.predict_proba(X_train)), \\\n",
    "           log_loss(y_test, m.predict_proba(X_test)),\\\n",
    "          val_a_loss, val_b_loss))\n",
    "    \n",
    "\n",
    "end = time.time()\n",
    "\n",
    "print(end-start)"
   ]
  },
  {
   "cell_type": "markdown",
   "metadata": {},
   "source": [
    "# 4 调参"
   ]
  },
  {
   "cell_type": "code",
   "execution_count": null,
   "metadata": {
    "collapsed": true
   },
   "outputs": [],
   "source": [
    "from sklearn.model_selection import ParameterGrid\n",
    "\n",
    "params={\n",
    "    'max_depth': [3],#[3,4,5,6,7,8,9,10], # 5 is good but takes too long in kaggle env\n",
    "    'subsample': [1],#[0.1,0.2,0.3,0.4,0.5,0.55,0.6,0.65,0.7,0.8,0.9],#[0.9]\n",
    "    'colsample_bytree': [1],#[0.1,0.2,0.3,0.4,0.5,0.6,0.65,0.7,0.75,0.8,0.9,0.95],#[0.9],\n",
    "    'colsample_bylevel':[1],#[0.1,0.2,0.3,0.4,0.5,0.6,0.7,0.8,0.9,1],\n",
    "    'scale_pos_weight':[1],#[0.7,0.8,1,1.1,1.2],#0.1,0.5,1,2,5\n",
    "    'max_delta_step':[0],#[0,0.1,0.001,0.05,0.005,0.5,1,2],\n",
    "    'n_estimators': [230],#[350,370,390,400,410,420],#400,[100,400,500,700,1000,1500,2000],\n",
    "    'reg_lambda': [1],#[0.05,0.1,0.2,0.3,0.4,0.5,0.7,0.8,0.9]\n",
    "    'reg_alpha': [0],#[0.01,0.05,0.005,0.2,0.1,0.02,0.0001],#\n",
    "    'min_child_weight':[1],#[1,2,3,4,5,6,7,8,9,10,11,12,13,14,15,16,17,18,19,20],#[23],#[20,21,22,23,24,25,26],#\n",
    "    'gamma':[0],#[1.8,1.9,1.95,2,2.05,2.1,2.2,2.3],#[2],#[0.1,0.5,0.01,1,2,3,4,5,6,7,8],#[6],#[0.1],#\n",
    "    'learning_rate':[0.1],#[0.01,0.015,0.02,0.025,0.05,0.005,0.1],#[0.02]#\n",
    "}\n",
    "\n",
    "# if sum(y_test == -1) == 0:\n",
    "#     xgb = xgboost.XGBClassifier(n_jobs=7)\n",
    "#     best_score = 1 \n",
    "#     for g in ParameterGrid(params):\n",
    "#         xgb.set_params(**g)\n",
    "\n",
    "#         # 分离a,b榜\n",
    "#         X_val_a, X_val_b, y_val_a, y_val_b = train_test_split(X_test, y_test, test_size=0.7, shuffle=True, random_state=6)\n",
    "#         m = xgb.fit(X_train, y_train)\n",
    "\n",
    "#         val_train_loss = log_loss(y_train, m.predict_proba(X_train))\n",
    "#         val_test_loss = log_loss(y_test, m.predict_proba(X_test))\n",
    "#         val_a_loss = log_loss(y_val_a, m.predict_proba(X_val_a))\n",
    "#         val_b_loss = log_loss(y_val_b, m.predict_proba(X_val_b))\n",
    "#         print('-'*80)\n",
    "#         print(g)\n",
    "#         print('(%s -> %s) train logloss: %.5f, test logloss: %.5f, a: %.5f, b: %.5f' % \\\n",
    "#               (starts, ends, val_train_loss, val_test_loss, val_a_loss, val_b_loss))\n",
    "\n",
    "#         # save if best\n",
    "#         if val_test_loss < best_score:\n",
    "#             best_score = val_test_loss\n",
    "#             best_grid = g\n",
    "\n",
    "#     print('-'*80, '\\n')        \n",
    "#     print (\"log loss: %0.5f\" % best_score )\n",
    "#     print (\"Grid:\", best_grid)\n",
    "# 8180"
   ]
  },
  {
   "cell_type": "markdown",
   "metadata": {},
   "source": [
    "# 5 模型分析"
   ]
  },
  {
   "cell_type": "code",
   "execution_count": null,
   "metadata": {},
   "outputs": [],
   "source": [
    "fig,ax = plt.subplots(figsize=(12,18))\n",
    "xgboost.plot_importance(clf, ax=ax, importance_type='cover')\n",
    "plt.show()"
   ]
  },
  {
   "cell_type": "code",
   "execution_count": null,
   "metadata": {
    "collapsed": true
   },
   "outputs": [],
   "source": []
  }
 ],
 "metadata": {
  "kernelspec": {
   "display_name": "Python 3",
   "language": "python",
   "name": "python3"
  },
  "language_info": {
   "codemirror_mode": {
    "name": "ipython",
    "version": 3
   },
   "file_extension": ".py",
   "mimetype": "text/x-python",
   "name": "python",
   "nbconvert_exporter": "python",
   "pygments_lexer": "ipython3",
   "version": "3.6.3"
  }
 },
 "nbformat": 4,
 "nbformat_minor": 2
}
