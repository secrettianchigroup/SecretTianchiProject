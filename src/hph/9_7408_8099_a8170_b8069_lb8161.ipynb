{
 "cells": [
  {
   "cell_type": "markdown",
   "metadata": {},
   "source": [
    "# 加上两个用户行为特征\n",
    "\n",
    "1. 8234 base\n",
    "2. n_estimators 91\n",
    "3. gamma 6.6\n",
    "4. 加上复合特征"
   ]
  },
  {
   "cell_type": "code",
   "execution_count": 4,
   "metadata": {},
   "outputs": [],
   "source": [
    "import sys\n",
    "sys.path.append(\"..\")\n",
    "import pandas as pd\n",
    "import seaborn as sns\n",
    "import matplotlib.pyplot as plt\n",
    "from datetime import datetime\n",
    "\n",
    "%matplotlib inline\n",
    "\n",
    "train_df = pd.read_table('../../round1_ijcai_18_train_20180301.txt',sep=' ')\n",
    "test_df = pd.read_table('../../round1_ijcai_18_test_a_20180301.txt',sep=' ')\n",
    "\n",
    "# 线下线上数据统一进行特征处理\n",
    "test_df['is_trade'] = -1\n",
    "total_df = pd.concat([train_df, test_df], axis=0, ignore_index=True)"
   ]
  },
  {
   "cell_type": "markdown",
   "metadata": {},
   "source": [
    "# 1 先处理时序数据"
   ]
  },
  {
   "cell_type": "code",
   "execution_count": 5,
   "metadata": {},
   "outputs": [],
   "source": [
    "# 时间处理: 分离天, 星期几, 上中下午/晚上, 小时数\n",
    "# date最终不使用，直接用day(第 0 - 7 天)\n",
    "\n",
    "from sklearn import preprocessing\n",
    "from datetime import datetime\n",
    "le = preprocessing.LabelEncoder()\n",
    "\n",
    "def extract_date(x):\n",
    "    d = datetime.fromtimestamp(x)\n",
    "    return d.strftime('%Y-%m-%d')\n",
    "def extract_weekday(x):\n",
    "    d = datetime.fromtimestamp(x)\n",
    "    return d.weekday()\n",
    "def extract_hour(x):\n",
    "    d = datetime.fromtimestamp(x)\n",
    "    return d.hour\n",
    "\n",
    "total_df['date'] = total_df['context_timestamp'].apply(lambda x: extract_date(x))\n",
    "total_df['day'] = le.fit_transform(total_df['date'])\n",
    "total_df['weekday'] = total_df['context_timestamp'].apply(lambda x: extract_weekday(x))\n",
    "total_df['hour'] = total_df['context_timestamp'].apply(lambda x: extract_hour(x))"
   ]
  },
  {
   "cell_type": "markdown",
   "metadata": {},
   "source": [
    "# 2 先分离训练集, 测试集, 线上集\n",
    "\n"
   ]
  },
  {
   "cell_type": "code",
   "execution_count": 14,
   "metadata": {
    "scrolled": false
   },
   "outputs": [
    {
     "name": "stdout",
     "output_type": "stream",
     "text": [
      "(420717,) (57421,)\n"
     ]
    }
   ],
   "source": [
    "# 获取训练测试的索引, 6全集数据验证, 7为生成上线文件\n",
    "import numpy as np\n",
    "test_day= 6\n",
    "starts = list(range(0,test_day))\n",
    "ends = [test_day]\n",
    "train_indices = total_df[total_df['day'].isin(starts)].index.values\n",
    "test_indices = total_df[total_df['day'].isin(ends)].index.values\n",
    "print(train_indices.shape, test_indices.shape)\n",
    "\n",
    "tmp_df = total_df.copy()\n",
    "\n",
    "# 把测试索引的label提取\n",
    "y_test = tmp_df.iloc[test_indices]['is_trade']\n",
    "\n",
    "# 把需要训练和测试的数据提取, 并且强制去掉测试集的label列\n",
    "tmp_df.loc[test_indices, 'is_trade'] = np.nan\n",
    "\n",
    "# 得出训练测试必须的数据集 ,并且添加一列data_set作为标记\n",
    "train_tmp = tmp_df.iloc[train_indices].copy()\n",
    "train_tmp['data_set'] = 'training'\n",
    "test_tmp = tmp_df.iloc[test_indices].copy()\n",
    "test_tmp['data_set'] = 'testing'\n",
    "raw_df = train_tmp.append(test_tmp)\n"
   ]
  },
  {
   "cell_type": "markdown",
   "metadata": {},
   "source": [
    "### 重复列特征"
   ]
  },
  {
   "cell_type": "code",
   "execution_count": 15,
   "metadata": {},
   "outputs": [],
   "source": [
    "%run ../util/time_utils.py\n",
    "dup_feat = ['item_id', 'item_brand_id', 'shop_id', 'user_id']\n",
    "raw_df = generateColDupByDay(raw_df, dup_feat, list(range(1, 8)), verbose=False)"
   ]
  },
  {
   "cell_type": "markdown",
   "metadata": {},
   "source": [
    "### 交易率特征选择\n",
    "\n",
    "*固定smooth为10*\n",
    "\n",
    "1. 特征是否独立提升?\n",
    "2. 平滑是否不会改变正负向?\n",
    "\n",
    "##### 正向特征\n",
    "\n",
    "> item_city_id, shop_id, user_gender_id, item_sales_level, item_collected_level, shop_review_num_level\n",
    "\n",
    "##### 负向特征\n",
    "\n",
    "> item_price_level,\n",
    "item_id,item_brand_id,item_pv_level,user_age_level,\n",
    "user_occupation_id,user_star_level,context_page_id,\n",
    "shop_review_positive_rate,shop_star_level,\n",
    "shop_score_service,shop_score_description,day,hour\n"
   ]
  },
  {
   "cell_type": "code",
   "execution_count": 16,
   "metadata": {},
   "outputs": [
    {
     "name": "stderr",
     "output_type": "stream",
     "text": [
      "C:\\Anaconda3\\lib\\site-packages\\pandas\\core\\series.py:696: FutureWarning: \n",
      "Passing list-likes to .loc or [] with any missing label will raise\n",
      "KeyError in the future, you can use .reindex() as an alternative.\n",
      "\n",
      "See the documentation here:\n",
      "http://pandas.pydata.org/pandas-docs/stable/indexing.html#deprecate-loc-reindex-listlike\n",
      "  return self.loc[key]\n"
     ]
    },
    {
     "name": "stdout",
     "output_type": "stream",
     "text": [
      "(478138, 71)\n"
     ]
    }
   ],
   "source": [
    "# 计算前一天的交易率set到下一天，第0天用回自己\n",
    "# %run ../util/time_utils.py\n",
    "\n",
    "# setTradeRateByDate(raw_df, ['item_city_id', 'item_id', 'item_brand_id', 'shop_id', 'user_id'])\n",
    "\n",
    "# 计算前一天的交易率set到下一天，第0天用回自己\n",
    "%run ../util/trade_info.py\n",
    "\n",
    "# trade_rela = ['item_city_id', 'shop_id', 'user_gender_id', 'item_sales_level', 'item_collected_level', 'shop_review_num_level']\n",
    "trade_rela = ['item_city_id', 'item_id', 'item_brand_id', 'shop_id', 'user_id']\n",
    "\n",
    "# colSm = {}\n",
    "# for col in trade_rela:\n",
    "#     colSm[col] = [15*(mean0) , 15]\n",
    "generateTradeRateByDate(raw_df, trade_rela, 7, None, verbose=False, glbSmoothing=200, glbMean0=0.05)\n",
    "print(raw_df.shape)"
   ]
  },
  {
   "cell_type": "markdown",
   "metadata": {},
   "source": [
    "### 复合类型拆解"
   ]
  },
  {
   "cell_type": "code",
   "execution_count": 17,
   "metadata": {},
   "outputs": [
    {
     "name": "stdout",
     "output_type": "stream",
     "text": [
      "get_icl_map ... \n",
      "get_ipl_map ... \n",
      "processing predict_category_property ...\n",
      "processing item_property_list ...\n",
      "processing item_category_list ...\n",
      "generating item_category_1, item_category_2 ...\n"
     ]
    }
   ],
   "source": [
    "%run ../util/complex_type.py\n",
    "from sklearn import preprocessing\n",
    "from datetime import datetime\n",
    "le = preprocessing.LabelEncoder()\n",
    "raw_df = process_complex_types(raw_df, get_icl_map(raw_df), get_ipl_map(raw_df))\n",
    "\n",
    "raw_df['item_category_1'] = le.fit_transform(raw_df.item_category_1)\n",
    "raw_df['item_category_2'] = le.fit_transform(raw_df.item_category_2)"
   ]
  },
  {
   "cell_type": "code",
   "execution_count": 18,
   "metadata": {},
   "outputs": [],
   "source": [
    "%run ../util/complex_type.py\n",
    "\n",
    "cnt_user_item_review = raw_df[[\"user_id\", \"item_id\", \"instance_id\"]].groupby([\"user_id\", \"item_id\"])['instance_id'].count().to_dict() \n",
    "cnt_user_cate_review = raw_df[[\"user_id\", \"item_category_1\", \"instance_id\"]].groupby([\"user_id\", \"item_category_1\"])['instance_id'].count().to_dict()  \n",
    "\n",
    "f1 = set_review_cnt(\"user_id\", \"item_id\", cnt_user_item_review)\n",
    "f2 = set_review_cnt(\"user_id\", \"item_category_1\", cnt_user_cate_review)\n",
    "\n",
    "tmp = raw_df.sort_values(by=\"context_timestamp\")\n",
    "tmp[\"item_review_cnt\"] = tmp[[\"user_id\", \"item_id\"]].apply(f1, axis=1)\n",
    "tmp[\"cate_review_cnt\"] = tmp[[\"user_id\", \"item_category_1\"]].apply(f2, axis=1)\n",
    "raw_df = tmp.sort_index()\n"
   ]
  },
  {
   "cell_type": "markdown",
   "metadata": {},
   "source": [
    "# 3 生成矩阵数据"
   ]
  },
  {
   "cell_type": "code",
   "execution_count": 19,
   "metadata": {},
   "outputs": [
    {
     "name": "stdout",
     "output_type": "stream",
     "text": [
      "(420717, 1) (420717, 72) (420717,) (57421, 72) (57421,)\n"
     ]
    }
   ],
   "source": [
    "train_df = raw_df[raw_df['data_set'] == 'training']\n",
    "test_df = raw_df[raw_df['data_set'] == 'testing']\n",
    "\n",
    "non_feat_columns = ['data_set', 'context_timestamp', 'instance_id', 'is_trade', 'context_id',\n",
    "                   'item_property_list', 'item_category_list', 'date', 'predict_category_property','tmp'\n",
    "                   ]\n",
    "\n",
    "D = train_df[['date']]\n",
    "X_train = train_df.drop(non_feat_columns, axis=1)\n",
    "y_train = train_df[['is_trade']].values.ravel()\n",
    "X_test = test_df.drop(non_feat_columns, axis=1)\n",
    "# y_test is already exists\n",
    "\n",
    "# X_online = test_df.drop(non_feat_columns, axis=1).values\n",
    "print(D.shape, X_train.shape, y_train.shape, X_test.shape, y_test.shape)"
   ]
  },
  {
   "cell_type": "code",
   "execution_count": 20,
   "metadata": {},
   "outputs": [
    {
     "name": "stdout",
     "output_type": "stream",
     "text": [
      "([0, 1, 2, 3, 4, 5] -> [6]) train logloss: 0.07405, test logloss: 0.08101, a: 0.08175, b: 0.08069\n",
      "2018-04-07 11:33:10.281601\n"
     ]
    }
   ],
   "source": [
    "# 训练模型\n",
    "from sklearn.metrics import log_loss\n",
    "from sklearn.model_selection import train_test_split\n",
    "import xgboost\n",
    "\n",
    "#import lightgbm as lgb\n",
    "\n",
    "%run ../util/time_series_split.py\n",
    "\n",
    "# clf = lgb.LGBMClassifier(n_jobs=20)\n",
    "clf = xgboost.XGBClassifier(n_jobs=7,max_depth=5,n_estimators=91,min_child_weight=5, gamma=6.6)\n",
    "# clf = xgboost.XGBClassifier(n_jobs=7, max_depth=3, n_estimators=230)\n",
    "\n",
    "m = None\n",
    "\n",
    "# 如果移动到线上集, 则输出模型\n",
    "if sum(y_test == -1) > 0:\n",
    "    m = clf.fit(X_train, y_train)\n",
    "    result = pd.DataFrame()\n",
    "    result['instance_id'] = test_df['instance_id']\n",
    "    result['predicted_score'] = pd.DataFrame(m.predict_proba(X_test))[1].values\n",
    "    result.to_csv('submits/9_7408_8099_a8170_b8069.csv', sep = ' ', header=True, index = False)\n",
    "else:\n",
    "    # 分离a,b榜\n",
    "    X_val_a, X_val_b, y_val_a, y_val_b = train_test_split(X_test, y_test, test_size=0.7, shuffle=True, random_state=6)\n",
    "    m = clf.fit(X_train, y_train)\n",
    "    \n",
    "    val_a_loss = log_loss(y_val_a, m.predict_proba(X_val_a))\n",
    "    val_b_loss = log_loss(y_val_b, m.predict_proba(X_val_b))\n",
    "    print('(%s -> %s) train logloss: %.5f, test logloss: %.5f, a: %.5f, b: %.5f' % \\\n",
    "          (starts, ends, \\\n",
    "           log_loss(y_train, m.predict_proba(X_train)), \\\n",
    "           log_loss(y_test, m.predict_proba(X_test)),\\\n",
    "          val_a_loss, val_b_loss))\n",
    "  \n",
    "\n",
    "\n",
    "from datetime import datetime\n",
    "print(datetime.now())\n",
    "# ([0, 1, 2, 3, 4, 5] -> [6]) train logloss: 0.07348, test logloss: 0.08093, a: 0.08162, b: 0.08064\n",
    "# ([0, 1, 2, 3, 4, 5] -> [6]) train logloss: 0.07379, test logloss: 0.08092, a: 0.08160, b: 0.08063\n",
    "# ([0, 1, 2, 3, 4, 5] -> [6]) train logloss: 0.07424, test logloss: 0.08098, a: 0.08179, b: 0.08064\n",
    "# ([0, 1, 2, 3, 4, 5] -> [6]) gamma6.6 train logloss: 0.07416, test logloss: 0.08097, a: 0.08177, b: 0.08063"
   ]
  },
  {
   "cell_type": "markdown",
   "metadata": {},
   "source": [
    "# 4 超参搜索"
   ]
  },
  {
   "cell_type": "code",
   "execution_count": 21,
   "metadata": {
    "scrolled": false
   },
   "outputs": [],
   "source": [
    "from sklearn.model_selection import ParameterGrid\n",
    "# 训练模型\n",
    "from sklearn.metrics import log_loss\n",
    "from sklearn.model_selection import train_test_split\n",
    "import xgboost\n",
    "\n",
    "params={\n",
    "    'max_depth': [5],#[6,10,15,20], # 5 is good but takes too long in kaggle env\n",
    "    'subsample': np.arange(0.9,1,0.1),#[1,0.9,0.8,0.7],#[0.1,0.2,0.3,0.4,0.5,0.55,0.6,0.65,0.7,0.8,0.9],#[0.9]\n",
    "    'colsample_bytree': [1],#[0.1,0.2,0.3,0.4,0.5,0.6,0.65,0.7,0.75,0.8,0.9,0.95],#[0.9],\n",
    "    'colsample_bylevel':[1],#[0.1,0.2,0.3,0.4,0.5,0.6,0.7,0.8,0.9,1],\n",
    "    'scale_pos_weight':[1],#[0.7,0.8,1,1.1,1.2],#0.1,0.5,1,2,5\n",
    "    'max_delta_step':np.arange(0.91,0.99,0.01),#[0,0.1,0.001,0.05,0.005,0.5,1,2],\n",
    "    'n_estimators': [91],#[100,90,91,92,93,94,95,96,97,98,99],#[200,230,260,270,280,290,300]\n",
    "    'reg_lambda': np.arange(0.5,1.5,0.1),#[1.3,1.4,1.5,1.6],\n",
    "    'reg_alpha': [0],#[0,0.01,0.1,0.02,0.2],#[0.01,0.05,0.005,0.2,0.1,0.02,0.0001,0],#\n",
    "    'min_child_weight':[5],#[7,8,9,10,11,12,13,14,15,16,17,18,19,20],#[23],#[20,21,22,23,24,25,26],#\n",
    "    'gamma':[6],#[6],#[0.1],#\n",
    "    'learning_rate':[0.1],#[0.01,0.015,0.02,0.025,0.05,0.005,0.1],#[0.02]#\n",
    "}\n",
    "\n",
    "# if sum(y_test == -1) == 0:\n",
    "#     xgb = xgboost.XGBClassifier(n_jobs=7)\n",
    "#     best_score = 1 \n",
    "#     for g in ParameterGrid(params):\n",
    "#         xgb.set_params(**g)\n",
    "\n",
    "#         # 分离a,b榜\n",
    "#         X_val_a, X_val_b, y_val_a, y_val_b = train_test_split(X_test, y_test, test_size=0.7, shuffle=True, random_state=6)\n",
    "#         m = xgb.fit(X_train, y_train, eval_metric='logloss')\n",
    "\n",
    "#         val_train_loss = log_loss(y_train, m.predict_proba(X_train))\n",
    "#         val_test_loss = log_loss(y_test, m.predict_proba(X_test))\n",
    "#         val_a_loss = log_loss(y_val_a, m.predict_proba(X_val_a))\n",
    "#         val_b_loss = log_loss(y_val_b, m.predict_proba(X_val_b))\n",
    "#         print('-'*80)\n",
    "#         print(g)\n",
    "#         print('(%s -> %s) train logloss: %.5f, test logloss: %.5f, a: %.5f, b: %.5f' % \\\n",
    "#               (starts, ends, val_train_loss, val_test_loss, val_a_loss, val_b_loss))\n",
    "\n",
    "#         # save if best\n",
    "#         if val_test_loss < best_score:\n",
    "#             best_score = val_test_loss\n",
    "#             best_grid = g\n",
    "\n",
    "#     print('-'*80, '\\n')        \n",
    "#     print (\"log loss: %0.5f\" % best_score )\n",
    "#     print (\"Grid:\", best_grid)"
   ]
  },
  {
   "cell_type": "code",
   "execution_count": null,
   "metadata": {},
   "outputs": [],
   "source": []
  },
  {
   "cell_type": "code",
   "execution_count": null,
   "metadata": {},
   "outputs": [],
   "source": []
  }
 ],
 "metadata": {
  "kernelspec": {
   "display_name": "Python 3",
   "language": "python",
   "name": "python3"
  },
  "language_info": {
   "codemirror_mode": {
    "name": "ipython",
    "version": 3
   },
   "file_extension": ".py",
   "mimetype": "text/x-python",
   "name": "python",
   "nbconvert_exporter": "python",
   "pygments_lexer": "ipython3",
   "version": "3.6.4"
  }
 },
 "nbformat": 4,
 "nbformat_minor": 2
}
