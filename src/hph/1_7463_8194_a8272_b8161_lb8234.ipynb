{
 "cells": [
  {
   "cell_type": "markdown",
   "metadata": {},
   "source": [
    "# 8234 baseline"
   ]
  },
  {
   "cell_type": "code",
   "execution_count": 1,
   "metadata": {},
   "outputs": [],
   "source": [
    "import sys\n",
    "sys.path.append(\"..\")\n",
    "import pandas as pd\n",
    "import seaborn as sns\n",
    "import matplotlib.pyplot as plt\n",
    "from datetime import datetime\n",
    "\n",
    "%matplotlib inline\n",
    "\n",
    "train_df = pd.read_table('../../round1_ijcai_18_train_20180301.txt',sep=' ')\n",
    "test_df = pd.read_table('../../round1_ijcai_18_test_a_20180301.txt',sep=' ')\n",
    "\n",
    "# 线下线上数据统一进行特征处理\n",
    "test_df['is_trade'] = -1\n",
    "total_df = pd.concat([train_df, test_df], axis=0, ignore_index=True)"
   ]
  },
  {
   "cell_type": "markdown",
   "metadata": {},
   "source": [
    "# 1 先处理时序数据"
   ]
  },
  {
   "cell_type": "code",
   "execution_count": 2,
   "metadata": {},
   "outputs": [],
   "source": [
    "# 时间处理: 分离天, 星期几, 上中下午/晚上, 小时数\n",
    "# date最终不使用，直接用day(第 0 - 7 天)\n",
    "\n",
    "from sklearn import preprocessing\n",
    "from datetime import datetime\n",
    "le = preprocessing.LabelEncoder()\n",
    "\n",
    "def extract_date(x):\n",
    "    d = datetime.fromtimestamp(x)\n",
    "    return d.strftime('%Y-%m-%d')\n",
    "def extract_weekday(x):\n",
    "    d = datetime.fromtimestamp(x)\n",
    "    return d.weekday()\n",
    "def extract_hour(x):\n",
    "    d = datetime.fromtimestamp(x)\n",
    "    return d.hour\n",
    "\n",
    "total_df['date'] = total_df['context_timestamp'].apply(lambda x: extract_date(x))\n",
    "total_df['day'] = le.fit_transform(total_df['date'])\n",
    "total_df['weekday'] = total_df['context_timestamp'].apply(lambda x: extract_weekday(x))\n",
    "total_df['hour'] = total_df['context_timestamp'].apply(lambda x: extract_hour(x))"
   ]
  },
  {
   "cell_type": "markdown",
   "metadata": {},
   "source": [
    "# 2 先分离训练集, 测试集, 线上集\n",
    "\n"
   ]
  },
  {
   "cell_type": "code",
   "execution_count": 32,
   "metadata": {
    "scrolled": false
   },
   "outputs": [
    {
     "name": "stdout",
     "output_type": "stream",
     "text": [
      "(478138,) (18371,)\n"
     ]
    }
   ],
   "source": [
    "# 获取训练测试的索引\n",
    "import numpy as np\n",
    "starts = [0,1,2,3,4,5]\n",
    "ends = [6]\n",
    "train_indices = total_df[total_df['day'].isin(starts)].index.values\n",
    "test_indices = total_df[total_df['day'].isin(ends)].index.values\n",
    "print(train_indices.shape, test_indices.shape)\n",
    "\n",
    "tmp_df = total_df.copy()\n",
    "\n",
    "# 把测试索引的label提取\n",
    "y_test = tmp_df.iloc[test_indices]['is_trade']\n",
    "\n",
    "# 把需要训练和测试的数据提取, 并且强制去掉测试集的label列\n",
    "tmp_df.loc[test_indices, 'is_trade'] = np.nan\n",
    "\n",
    "# 得出训练测试必须的数据集 ,并且添加一列data_set作为标记\n",
    "train_tmp = tmp_df.iloc[train_indices].copy()\n",
    "train_tmp['data_set'] = 'training'\n",
    "test_tmp = tmp_df.iloc[test_indices].copy()\n",
    "test_tmp['data_set'] = 'testing'\n",
    "raw_df = train_tmp.append(test_tmp)\n"
   ]
  },
  {
   "cell_type": "code",
   "execution_count": 33,
   "metadata": {},
   "outputs": [
    {
     "name": "stdout",
     "output_type": "stream",
     "text": [
      "setting new col : item_id_dup_g_1\n",
      "setting new col : item_brand_id_dup_g_1\n",
      "setting new col : shop_id_dup_g_1\n",
      "setting new col : user_id_dup_g_1\n",
      "setting new col : item_id_dup_g_2\n",
      "setting new col : item_brand_id_dup_g_2\n",
      "setting new col : shop_id_dup_g_2\n",
      "setting new col : user_id_dup_g_2\n",
      "setting new col : item_id_dup_g_3\n",
      "setting new col : item_brand_id_dup_g_3\n",
      "setting new col : shop_id_dup_g_3\n",
      "setting new col : user_id_dup_g_3\n",
      "setting new col : item_id_dup_g_4\n",
      "setting new col : item_brand_id_dup_g_4\n",
      "setting new col : shop_id_dup_g_4\n",
      "setting new col : user_id_dup_g_4\n",
      "setting new col : item_id_dup_g_5\n",
      "setting new col : item_brand_id_dup_g_5\n",
      "setting new col : shop_id_dup_g_5\n",
      "setting new col : user_id_dup_g_5\n",
      "setting new col : item_id_dup_g_6\n",
      "setting new col : item_brand_id_dup_g_6\n",
      "setting new col : shop_id_dup_g_6\n",
      "setting new col : user_id_dup_g_6\n",
      "setting new col : item_id_dup_g_7\n",
      "setting new col : item_brand_id_dup_g_7\n",
      "setting new col : shop_id_dup_g_7\n",
      "setting new col : user_id_dup_g_7\n"
     ]
    }
   ],
   "source": [
    "%run ../util/time_utils.py\n",
    "for i in range(1, 8):\n",
    "\n",
    "    raw_df = getColDupByDate(raw_df, 'date', 'item_id', i)\n",
    "    raw_df = getColDupByDate(raw_df, 'date', 'item_brand_id', i)\n",
    "    raw_df = getColDupByDate(raw_df, 'date', 'shop_id', i)\n",
    "    raw_df = getColDupByDate(raw_df, 'date', 'user_id', i)"
   ]
  },
  {
   "cell_type": "code",
   "execution_count": 34,
   "metadata": {},
   "outputs": [
    {
     "name": "stdout",
     "output_type": "stream",
     "text": [
      "column item_city_id trade_rate cal_day [0] set to day 0\n",
      "column item_city_id trade_rate cal_day [0] set to day 1\n"
     ]
    },
    {
     "name": "stderr",
     "output_type": "stream",
     "text": [
      "C:\\Anaconda3\\lib\\site-packages\\pandas\\core\\series.py:696: FutureWarning: \n",
      "Passing list-likes to .loc or [] with any missing label will raise\n",
      "KeyError in the future, you can use .reindex() as an alternative.\n",
      "\n",
      "See the documentation here:\n",
      "http://pandas.pydata.org/pandas-docs/stable/indexing.html#deprecate-loc-reindex-listlike\n",
      "  return self.loc[key]\n"
     ]
    },
    {
     "name": "stdout",
     "output_type": "stream",
     "text": [
      "column item_city_id trade_rate cal_day [0 1] set to day 2\n",
      "column item_city_id trade_rate cal_day [0 1 2] set to day 3\n",
      "column item_city_id trade_rate cal_day [0 3 1 2] set to day 4\n",
      "column item_city_id trade_rate cal_day [0 3 1 2 4] set to day 5\n",
      "column item_city_id trade_rate cal_day [0 3 1 2 4 5] set to day 6\n",
      "column item_city_id trade_rate cal_day [0 3 1 2 4 5 6] set to day 7\n",
      "column item_id trade_rate cal_day [0] set to day 0\n",
      "column item_id trade_rate cal_day [0] set to day 1\n",
      "column item_id trade_rate cal_day [0 1] set to day 2\n",
      "column item_id trade_rate cal_day [0 1 2] set to day 3\n",
      "column item_id trade_rate cal_day [0 3 1 2] set to day 4\n",
      "column item_id trade_rate cal_day [0 3 1 2 4] set to day 5\n",
      "column item_id trade_rate cal_day [0 3 1 2 4 5] set to day 6\n",
      "column item_id trade_rate cal_day [0 3 1 2 4 5 6] set to day 7\n",
      "column item_brand_id trade_rate cal_day [0] set to day 0\n",
      "column item_brand_id trade_rate cal_day [0] set to day 1\n",
      "column item_brand_id trade_rate cal_day [0 1] set to day 2\n",
      "column item_brand_id trade_rate cal_day [0 1 2] set to day 3\n",
      "column item_brand_id trade_rate cal_day [0 3 1 2] set to day 4\n",
      "column item_brand_id trade_rate cal_day [0 3 1 2 4] set to day 5\n",
      "column item_brand_id trade_rate cal_day [0 3 1 2 4 5] set to day 6\n",
      "column item_brand_id trade_rate cal_day [0 3 1 2 4 5 6] set to day 7\n",
      "column shop_id trade_rate cal_day [0] set to day 0\n",
      "column shop_id trade_rate cal_day [0] set to day 1\n",
      "column shop_id trade_rate cal_day [0 1] set to day 2\n",
      "column shop_id trade_rate cal_day [0 1 2] set to day 3\n",
      "column shop_id trade_rate cal_day [0 3 1 2] set to day 4\n",
      "column shop_id trade_rate cal_day [0 3 1 2 4] set to day 5\n",
      "column shop_id trade_rate cal_day [0 3 1 2 4 5] set to day 6\n",
      "column shop_id trade_rate cal_day [0 3 1 2 4 5 6] set to day 7\n",
      "column user_id trade_rate cal_day [0] set to day 0\n",
      "column user_id trade_rate cal_day [0] set to day 1\n",
      "column user_id trade_rate cal_day [0 1] set to day 2\n",
      "column user_id trade_rate cal_day [0 1 2] set to day 3\n",
      "column user_id trade_rate cal_day [0 3 1 2] set to day 4\n",
      "column user_id trade_rate cal_day [0 3 1 2 4] set to day 5\n",
      "column user_id trade_rate cal_day [0 3 1 2 4 5] set to day 6\n",
      "column user_id trade_rate cal_day [0 3 1 2 4 5 6] set to day 7\n"
     ]
    }
   ],
   "source": [
    "# 计算前一天的交易率set到下一天，第0天用回自己\n",
    "%run ../util/time_utils.py\n",
    "\n",
    "setTradeRateByDate(raw_df, ['item_city_id', 'item_id', 'item_brand_id', 'shop_id', 'user_id'])"
   ]
  },
  {
   "cell_type": "code",
   "execution_count": 35,
   "metadata": {},
   "outputs": [
    {
     "data": {
      "text/plain": [
       "array(['instance_id', 'item_id', 'item_category_list',\n",
       "       'item_property_list', 'item_brand_id', 'item_city_id',\n",
       "       'item_price_level', 'item_sales_level', 'item_collected_level',\n",
       "       'item_pv_level', 'user_id', 'user_gender_id', 'user_age_level',\n",
       "       'user_occupation_id', 'user_star_level', 'context_id',\n",
       "       'context_timestamp', 'context_page_id',\n",
       "       'predict_category_property', 'shop_id', 'shop_review_num_level',\n",
       "       'shop_review_positive_rate', 'shop_star_level',\n",
       "       'shop_score_service', 'shop_score_delivery',\n",
       "       'shop_score_description', 'is_trade', 'date', 'day', 'weekday',\n",
       "       'hour', 'data_set', 'item_id_dup_g_1', 'item_brand_id_dup_g_1',\n",
       "       'shop_id_dup_g_1', 'user_id_dup_g_1', 'item_id_dup_g_2',\n",
       "       'item_brand_id_dup_g_2', 'shop_id_dup_g_2', 'user_id_dup_g_2',\n",
       "       'item_id_dup_g_3', 'item_brand_id_dup_g_3', 'shop_id_dup_g_3',\n",
       "       'user_id_dup_g_3', 'item_id_dup_g_4', 'item_brand_id_dup_g_4',\n",
       "       'shop_id_dup_g_4', 'user_id_dup_g_4', 'item_id_dup_g_5',\n",
       "       'item_brand_id_dup_g_5', 'shop_id_dup_g_5', 'user_id_dup_g_5',\n",
       "       'item_id_dup_g_6', 'item_brand_id_dup_g_6', 'shop_id_dup_g_6',\n",
       "       'user_id_dup_g_6', 'item_id_dup_g_7', 'item_brand_id_dup_g_7',\n",
       "       'shop_id_dup_g_7', 'user_id_dup_g_7', '_key1',\n",
       "       'exp_d_item_city_id', 'cnt_d_item_city_id', 'exp_d_item_id',\n",
       "       'cnt_d_item_id', 'exp_d_item_brand_id', 'cnt_d_item_brand_id',\n",
       "       'exp_d_shop_id', 'cnt_d_shop_id', 'exp_d_user_id', 'cnt_d_user_id'],\n",
       "      dtype=object)"
      ]
     },
     "execution_count": 35,
     "metadata": {},
     "output_type": "execute_result"
    }
   ],
   "source": [
    "raw_df.columns.values"
   ]
  },
  {
   "cell_type": "markdown",
   "metadata": {},
   "source": [
    "# 3 生成矩阵数据"
   ]
  },
  {
   "cell_type": "code",
   "execution_count": 36,
   "metadata": {},
   "outputs": [
    {
     "name": "stdout",
     "output_type": "stream",
     "text": [
      "(478138, 1) (478138, 61) (478138,) (18371, 61) (18371,)\n"
     ]
    }
   ],
   "source": [
    "train_df = raw_df[raw_df['data_set'] == 'training']\n",
    "test_df = raw_df[raw_df['data_set'] == 'testing']\n",
    "\n",
    "non_feat_columns = ['data_set', 'context_timestamp', 'instance_id', 'is_trade', 'context_id',\n",
    "                   'item_property_list', 'item_category_list', 'date', 'predict_category_property', '_key1'\n",
    "                   ]\n",
    "\n",
    "D = train_df[['date']]\n",
    "X_train = train_df.drop(non_feat_columns, axis=1)\n",
    "y_train = train_df[['is_trade']].values.ravel()\n",
    "X_test = test_df.drop(non_feat_columns, axis=1)\n",
    "# y_test is already exists\n",
    "\n",
    "# X_online = test_df.drop(non_feat_columns, axis=1).values\n",
    "print(D.shape, X_train.shape, y_train.shape, X_test.shape, y_test.shape)"
   ]
  },
  {
   "cell_type": "code",
   "execution_count": 37,
   "metadata": {},
   "outputs": [],
   "source": [
    "# 训练模型\n",
    "from sklearn.metrics import log_loss\n",
    "from sklearn.model_selection import train_test_split\n",
    "import xgboost\n",
    "\n",
    "#import lightgbm as lgb\n",
    "\n",
    "%run ../util/time_series_split.py\n",
    "\n",
    "# clf = lgb.LGBMClassifier(n_jobs=20)\n",
    "clf = xgboost.XGBClassifier(n_jobs=7,max_depth=5,n_estimators=100,min_child_weight=5, scale_pos_weight=1)\n",
    "\n",
    "m = None\n",
    "\n",
    "# 如果移动到线上集, 则输出模型\n",
    "if sum(y_test == -1) > 0:\n",
    "    m = clf.fit(X_train, y_train)\n",
    "    result = pd.DataFrame()\n",
    "    result['instance_id'] = test_df['instance_id']\n",
    "    result['predicted_score'] = pd.DataFrame(m.predict_proba(X_test))[1].values\n",
    "    result.to_csv('submits/8194_a8272_b8161.csv', sep = ' ', header=True, index = False)\n",
    "else:\n",
    "    # 分离a,b榜\n",
    "    X_val_a, X_val_b, y_val_a, y_val_b = train_test_split(X_test, y_test, test_size=0.7, shuffle=True, random_state=6)\n",
    "    m = clf.fit(X_train, y_train)\n",
    "    \n",
    "    val_a_loss = log_loss(y_val_a, m.predict_proba(X_val_a))\n",
    "    val_b_loss = log_loss(y_val_b, m.predict_proba(X_val_b))\n",
    "    print('(%s -> %s) train logloss: %.5f, test logloss: %.5f, a: %.5f, b: %.5f' % \\\n",
    "          (starts, ends, \\\n",
    "           log_loss(y_train, m.predict_proba(X_train)), \\\n",
    "           log_loss(y_test, m.predict_proba(X_test)),\\\n",
    "          val_a_loss, val_b_loss))\n",
    "    \n",
    "# ([0] -> [1]) train logloss: 0.09174, test logloss: 0.09354\n",
    "# ([0, 1] -> [2]) train logloss: 0.05530, test logloss: 0.09213\n",
    "# ([0, 1, 2] -> [3]) train logloss: 0.06654, test logloss: 0.09130\n",
    "# ([0, 1, 2, 3] -> [4]) train logloss: 0.07268, test logloss: 0.08890\n",
    "# ([0, 1, 2, 3, 4] -> [5]) train logloss: 0.07571, test logloss: 0.08354\n",
    "# ([0, 1, 2, 3, 4, 5] -> [6]) train logloss: 0.07691, test logloss: 0.08207\n",
    "# ([0, 1, 2, 3, 4, 5] -> [6]) 调参后, train logloss: 0.07463, test logloss: 0.08194, a: 0.08272, b: 0.08161\n"
   ]
  },
  {
   "cell_type": "markdown",
   "metadata": {},
   "source": [
    "# 4 模型分析"
   ]
  },
  {
   "cell_type": "code",
   "execution_count": 38,
   "metadata": {},
   "outputs": [
    {
     "data": {
      "text/plain": [
       "XGBClassifier(base_score=0.5, booster='gbtree', colsample_bylevel=1,\n",
       "       colsample_bytree=1, gamma=0, learning_rate=0.1, max_delta_step=0,\n",
       "       max_depth=5, min_child_weight=5, missing=None, n_estimators=100,\n",
       "       n_jobs=7, nthread=None, objective='binary:logistic', random_state=0,\n",
       "       reg_alpha=0, reg_lambda=1, scale_pos_weight=1, seed=None,\n",
       "       silent=True, subsample=1)"
      ]
     },
     "execution_count": 38,
     "metadata": {},
     "output_type": "execute_result"
    }
   ],
   "source": [
    "for i in range(1000):\n",
    "    # 分离a,b榜\n",
    "    X_val_a, X_val_b, y_val_a, y_val_b = train_test_split(X_test, y_test, test_size=0.7, shuffle=True, random_state=i)\n",
    "    \n",
    "    val_a_loss = log_loss(y_val_a, m.predict_proba(X_val_a))\n",
    "    val_b_loss = log_loss(y_val_b, m.predict_proba(X_val_b))\n",
    "    print('%d (%s -> %s) train logloss: %.5f, test logloss: %.5f, a: %.5f, b: %.5f' % \\\n",
    "          (i, starts, ends, \\\n",
    "           log_loss(y_train, m.predict_proba(X_train)), \\\n",
    "           log_loss(y_test, m.predict_proba(X_test)),\\\n",
    "          val_a_loss, val_b_loss))"
   ]
  },
  {
   "cell_type": "code",
   "execution_count": 39,
   "metadata": {},
   "outputs": [],
   "source": [
    "# print(X_val_a.shape, y_val_a.shape, X_val_b.shape, y_val_b.shape)\n",
    "\n",
    "# rand_states = []\n",
    "# bias = 0.0\n",
    "# for i in range(0, 3000):\n",
    "#     X_val_a, X_val_b, y_val_a, y_val_b = train_test_split(X_test, y_test, test_size=0.7, shuffle=True, random_state=i)\n",
    "#     # train_loss = log_loss(y_train, m.predict_proba(X_train))\n",
    "    \n",
    "#     val_a_loss = log_loss(y_val_a, m.predict_proba(X_val_a))\n",
    "#     val_b_loss = log_loss(y_val_b, m.predict_proba(X_val_b))\n",
    "#     bias = bias + val_a_loss - val_b_loss\n",
    "#     if val_a_loss > 0.089:\n",
    "#         rand_states.append(i)\n",
    "    \n",
    "#     print('第 %s 次: A: %.5f, B: %.5f, A_B_mean: %.5f, bias: %.5f' % \\\n",
    "#           ( i, val_a_loss, val_b_loss, (val_a_loss*0.3+val_b_loss*0.7), bias))\n",
    "    \n",
    "# test_loss = log_loss(y_test, m.predict_proba(X_test))\n",
    "# print('test logloss: %.5f, 总的bias: %s' % (test_loss, bias))\n",
    "# print(rand_states)"
   ]
  }
 ],
 "metadata": {
  "kernelspec": {
   "display_name": "Python 3",
   "language": "python",
   "name": "python3"
  },
  "language_info": {
   "codemirror_mode": {
    "name": "ipython",
    "version": 3
   },
   "file_extension": ".py",
   "mimetype": "text/x-python",
   "name": "python",
   "nbconvert_exporter": "python",
   "pygments_lexer": "ipython3",
   "version": "3.6.4"
  }
 },
 "nbformat": 4,
 "nbformat_minor": 2
}
